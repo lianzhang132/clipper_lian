{
 "cells": [
  {
   "cell_type": "code",
   "execution_count": null,
   "metadata": {},
   "outputs": [],
   "source": [
    "def quick_sort(lis):\n",
    "    print(\"start quick sort\")\n",
    "    list5 = []\n",
    "    if lis == []:\n",
    "        return []\n",
    "    else:\n",
    "        first = lis[0]\n",
    "        left = quick_sort([l for l in lis[1:]if l < first])\n",
    "        right = quick_sort([l for l in lis[1:] if l > first])\n",
    "        list1 = left +[first] + right\n",
    "        for i in list1:\n",
    "            list5.append(str(i))\n",
    "        return list5"
   ]
  },
  {
   "cell_type": "code",
   "execution_count": null,
   "metadata": {},
   "outputs": [],
   "source": [
    "def convert(str_list):\n",
    "    lis = str_list.split(\",\")\n",
    "    lis = list(map(int, lis))    \n",
    "    return str(lis)"
   ]
  },
  {
   "cell_type": "code",
   "execution_count": null,
   "metadata": {},
   "outputs": [],
   "source": [
    "def bubble_sort(str_list):\n",
    "    alist = convert(str_list)\n",
    "    print(alist)\n",
    "    for j in range(len(alist)-1,0,-1):\n",
    "        for i in range(j):\n",
    "            if alist[i] > alist[i+1]:\n",
    "                alist[i], alist[i+1] = alist[i+1], alist[i]\n",
    "    return alist\n",
    "\n",
    "#li = \"3,5,9,2\"\n",
    "#res = bubble_sort(li)\n",
    "#print(res)"
   ]
  },
  {
   "cell_type": "code",
   "execution_count": 1,
   "metadata": {},
   "outputs": [],
   "source": [
    "def aaa(input):\n",
    "    return [input[0]]\n",
    "def feature(xs):\n",
    "    return [str(sum(x)) for x in xs]"
   ]
  },
  {
   "cell_type": "code",
   "execution_count": 2,
   "metadata": {},
   "outputs": [],
   "source": [
    "from clipper_admin import ClipperConnection, DockerContainerManager                                                                                                                                     \n",
    "from clipper_admin.deployers import python as python_deployer     "
   ]
  },
  {
   "cell_type": "code",
   "execution_count": 3,
   "metadata": {},
   "outputs": [],
   "source": [
    "clipper_conn_zyy = ClipperConnection(DockerContainerManager()) "
   ]
  },
  {
   "cell_type": "code",
   "execution_count": 4,
   "metadata": {},
   "outputs": [
    {
     "name": "stderr",
     "output_type": "stream",
     "text": [
      "20-03-04:02:04:22 INFO     [docker_container_manager.py:184] [default-cluster] Starting managed Redis instance in Docker\n",
      "20-03-04:02:04:27 INFO     [docker_container_manager.py:276] [default-cluster] Metric Configuration Saved at /tmp/tmptvgekrbl.yml\n",
      "20-03-04:02:04:28 INFO     [clipper_admin.py:162] [default-cluster] Clipper is running\n"
     ]
    }
   ],
   "source": [
    "clipper_conn_zyy.start_clipper()\n",
    "# clipper_conn.connect()\n",
    "# Note that if the cluster is already created by start_clipper(), you can just connect to it using clipper_conn.connect() function."
   ]
  },
  {
   "cell_type": "code",
   "execution_count": 5,
   "metadata": {},
   "outputs": [
    {
     "name": "stderr",
     "output_type": "stream",
     "text": [
      "20-03-04:02:04:29 INFO     [clipper_admin.py:236] [default-cluster] Application sort-quick-zyy was successfully registered\n",
      "20-03-04:02:04:29 INFO     [deployer_utils.py:41] Saving function to /tmp/tmpskzu6oeeclipper\n",
      "20-03-04:02:04:29 INFO     [deployer_utils.py:51] Serialized and supplied predict function\n",
      "20-03-04:02:04:29 INFO     [python.py:192] Python closure saved\n",
      "20-03-04:02:04:29 INFO     [python.py:206] Using Python 3.6 base image\n",
      "20-03-04:02:04:29 INFO     [clipper_admin.py:534] [default-cluster] Building model Docker image with model data from /tmp/tmpskzu6oeeclipper\n",
      "20-03-04:02:04:30 INFO     [clipper_admin.py:539] [default-cluster] Step 1/2 : FROM clipper/python36-closure-container:0.4.1\n",
      "20-03-04:02:04:30 INFO     [clipper_admin.py:539] [default-cluster]  ---> e5b9dc250c05\n",
      "20-03-04:02:04:30 INFO     [clipper_admin.py:539] [default-cluster] Step 2/2 : COPY /tmp/tmpskzu6oeeclipper /model/\n",
      "20-03-04:02:04:30 INFO     [clipper_admin.py:539] [default-cluster]  ---> 6598d34cb706\n",
      "20-03-04:02:04:30 INFO     [clipper_admin.py:539] [default-cluster] Successfully built 6598d34cb706\n",
      "20-03-04:02:04:30 INFO     [clipper_admin.py:539] [default-cluster] Successfully tagged default-cluster-sort-quick-zyy:1\n",
      "20-03-04:02:04:30 INFO     [clipper_admin.py:541] [default-cluster] Pushing model Docker image to default-cluster-sort-quick-zyy:1\n",
      "20-03-04:02:04:38 INFO     [docker_container_manager.py:409] [default-cluster] Found 0 replicas for sort-quick-zyy:1. Adding 1\n",
      "20-03-04:02:04:39 INFO     [clipper_admin.py:724] [default-cluster] Successfully registered model sort-quick-zyy:1\n",
      "20-03-04:02:04:39 INFO     [clipper_admin.py:642] [default-cluster] Done deploying model sort-quick-zyy:1.\n",
      "20-03-04:02:04:39 INFO     [clipper_admin.py:303] [default-cluster] Model sort-quick-zyy is now linked to application sort-quick-zyy\n"
     ]
    }
   ],
   "source": [
    "python_deployer.create_endpoint(clipper_conn_zyy, \"sort-quick-zyy\", \"string\", aaa,'-1',1,5000000) "
   ]
  },
  {
   "cell_type": "code",
   "execution_count": 6,
   "metadata": {},
   "outputs": [],
   "source": [
    "def predict(addr, x, batch=False):\n",
    "    url = \"http://%s/sort-quick-zyy/predict\" % addr\n",
    "\n",
    "    if batch:\n",
    "        req_json = json.dumps({'input_batch': x})\n",
    "    else:\n",
    "        req_json = json.dumps({'input': x})\n",
    "    print(req_json)\n",
    "    headers = {'Content-type': 'application/json'}\n",
    "    start = datetime.now()\n",
    "    r = requests.post(url, headers=headers, data=req_json)\n",
    "    \n",
    "    end = datetime.now()\n",
    "    latency = (end - start).total_seconds() * 1000.0\n",
    "    print(\"'%s', %f ms\" % (r.text, latency))"
   ]
  },
  {
   "cell_type": "code",
   "execution_count": 9,
   "metadata": {},
   "outputs": [
    {
     "name": "stdout",
     "output_type": "stream",
     "text": [
      "localhost:1337\n",
      "{\"input\": \"9,7,3,7\"}\n",
      "'{\"query_id\":2,\"output\":-1,\"default\":true,\"default_explanation\":\"Failed to retrieve a prediction response within the specified latency SLO\"}', 5007.863000 ms\n"
     ]
    }
   ],
   "source": [
    "import json ,requests\n",
    "from datetime import datetime\n",
    "addr = \"127.0.0.1:1337\"\n",
    "addr = clipper_conn_zyy.get_query_addr()\n",
    "print(addr)\n",
    "\n",
    "# x = '{\"input\": [1.1, 2.2, 3.3]}'\n",
    "x = \"9,7,3,7\"\n",
    "\n",
    "predict(addr,x,batch=False)"
   ]
  },
  {
   "cell_type": "code",
   "execution_count": 10,
   "metadata": {},
   "outputs": [
    {
     "name": "stderr",
     "output_type": "stream",
     "text": [
      "20-03-04:02:08:00 INFO     [clipper_admin.py:1424] [default-cluster] Stopped all Clipper cluster and all model containers\n"
     ]
    }
   ],
   "source": [
    "clipper_conn_zyy.stop_all()"
   ]
  },
  {
   "cell_type": "markdown",
   "metadata": {},
   "source": [
    "这是 用 clipper实现 快排  现在有点怀疑 clipper是不是 不能对列表排序\n",
    "答：肯定不能直接输入列表，但是可以输入字符串啊。"
   ]
  },
  {
   "cell_type": "code",
   "execution_count": null,
   "metadata": {},
   "outputs": [],
   "source": [
    "clipper_conn_zyy.delete_application(\"sort-quick-zyy\")"
   ]
  },
  {
   "cell_type": "code",
   "execution_count": null,
   "metadata": {},
   "outputs": [],
   "source": []
  },
  {
   "cell_type": "code",
   "execution_count": null,
   "metadata": {},
   "outputs": [],
   "source": []
  }
 ],
 "metadata": {
  "kernelspec": {
   "display_name": "Python 3",
   "language": "python",
   "name": "python3"
  },
  "language_info": {
   "codemirror_mode": {
    "name": "ipython",
    "version": 3
   },
   "file_extension": ".py",
   "mimetype": "text/x-python",
   "name": "python",
   "nbconvert_exporter": "python",
   "pygments_lexer": "ipython3",
   "version": "3.6.1"
  }
 },
 "nbformat": 4,
 "nbformat_minor": 4
}
