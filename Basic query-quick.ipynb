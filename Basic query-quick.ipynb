{
 "cells": [
  {
   "cell_type": "code",
   "execution_count": 42,
   "metadata": {},
   "outputs": [],
   "source": [
    "def quick_sort(list):\n",
    "    list5 = []\n",
    "    if list == []:\n",
    "        return []\n",
    "    else:\n",
    "        first = list[0]\n",
    "        left = quick_sort([l for l in list[1:]if l < first])\n",
    "        right = quick_sort([l for l in list[1:] if l > first])\n",
    "        list1 = left +[first] + right\n",
    "        for i in list1:\n",
    "            list5.append(str(i))\n",
    "        return list5"
   ]
  },
  {
   "cell_type": "code",
   "execution_count": 43,
   "metadata": {},
   "outputs": [],
   "source": [
    "from clipper_admin import ClipperConnection, DockerContainerManager                                                                                                                                     \n",
    "from clipper_admin.deployers import python as python_deployer     "
   ]
  },
  {
   "cell_type": "code",
   "execution_count": 44,
   "metadata": {},
   "outputs": [],
   "source": [
    "clipper_conn = ClipperConnection(DockerContainerManager()) "
   ]
  },
  {
   "cell_type": "code",
   "execution_count": 45,
   "metadata": {},
   "outputs": [
    {
     "name": "stderr",
     "output_type": "stream",
     "text": [
      "20-03-03:23:14:40 INFO     [docker_container_manager.py:184] [default-cluster] Starting managed Redis instance in Docker\n",
      "20-03-03:23:14:44 INFO     [docker_container_manager.py:276] [default-cluster] Metric Configuration Saved at /tmp/tmplnynwfa_.yml\n",
      "20-03-03:23:14:45 INFO     [clipper_admin.py:162] [default-cluster] Clipper is running\n"
     ]
    }
   ],
   "source": [
    "clipper_conn.start_clipper()\n",
    "# Note that if the cluster is already created by start_clipper(), you can just connect to it using clipper_conn.connect() function."
   ]
  },
  {
   "cell_type": "code",
   "execution_count": 46,
   "metadata": {},
   "outputs": [
    {
     "name": "stderr",
     "output_type": "stream",
     "text": [
      "20-03-03:23:14:50 INFO     [clipper_admin.py:236] [default-cluster] Application sort-quick was successfully registered\n",
      "20-03-03:23:14:50 INFO     [deployer_utils.py:41] Saving function to /tmp/tmpjh2nhjktclipper\n",
      "20-03-03:23:14:50 INFO     [deployer_utils.py:51] Serialized and supplied predict function\n",
      "20-03-03:23:14:50 INFO     [python.py:192] Python closure saved\n",
      "20-03-03:23:14:50 INFO     [python.py:206] Using Python 3.6 base image\n",
      "20-03-03:23:14:50 INFO     [clipper_admin.py:534] [default-cluster] Building model Docker image with model data from /tmp/tmpjh2nhjktclipper\n",
      "20-03-03:23:14:51 INFO     [clipper_admin.py:539] [default-cluster] Step 1/2 : FROM clipper/python36-closure-container:0.4.1\n",
      "20-03-03:23:14:51 INFO     [clipper_admin.py:539] [default-cluster]  ---> e5b9dc250c05\n",
      "20-03-03:23:14:51 INFO     [clipper_admin.py:539] [default-cluster] Step 2/2 : COPY /tmp/tmpjh2nhjktclipper /model/\n",
      "20-03-03:23:14:51 INFO     [clipper_admin.py:539] [default-cluster]  ---> eeae78c5fa99\n",
      "20-03-03:23:14:51 INFO     [clipper_admin.py:539] [default-cluster] Successfully built eeae78c5fa99\n",
      "20-03-03:23:14:51 INFO     [clipper_admin.py:539] [default-cluster] Successfully tagged default-cluster-sort-quick:1\n",
      "20-03-03:23:14:51 INFO     [clipper_admin.py:541] [default-cluster] Pushing model Docker image to default-cluster-sort-quick:1\n",
      "20-03-03:23:14:57 INFO     [docker_container_manager.py:409] [default-cluster] Found 0 replicas for sort-quick:1. Adding 1\n",
      "20-03-03:23:14:59 INFO     [clipper_admin.py:724] [default-cluster] Successfully registered model sort-quick:1\n",
      "20-03-03:23:14:59 INFO     [clipper_admin.py:642] [default-cluster] Done deploying model sort-quick:1.\n",
      "20-03-03:23:14:59 INFO     [clipper_admin.py:303] [default-cluster] Model sort-quick is now linked to application sort-quick\n"
     ]
    }
   ],
   "source": [
    "python_deployer.create_endpoint(clipper_conn, \"sort-quick\", \"integers\", quick_sort,'-1',1,30000000) "
   ]
  },
  {
   "cell_type": "code",
   "execution_count": 47,
   "metadata": {},
   "outputs": [],
   "source": [
    "def predict(addr, x, batch=False):\n",
    "    url = \"http://%s/sort-quick/predict\" % addr\n",
    "\n",
    "    if batch:\n",
    "        req_json = json.dumps({'input_batch': x})\n",
    "    else:\n",
    "        req_json = json.dumps({'input': list(x)})\n",
    "\n",
    "    headers = {'Content-type': 'application/json'}\n",
    "    start = datetime.now()\n",
    "    r = requests.post(url, headers=headers, data=req_json)\n",
    "    \n",
    "    end = datetime.now()\n",
    "    latency = (end - start).total_seconds() * 1000.0\n",
    "    print(\"'%s', %f ms\" % (r.text, latency))"
   ]
  },
  {
   "cell_type": "code",
   "execution_count": null,
   "metadata": {},
   "outputs": [],
   "source": []
  },
  {
   "cell_type": "code",
   "execution_count": 48,
   "metadata": {},
   "outputs": [
    {
     "name": "stdout",
     "output_type": "stream",
     "text": [
      "'{\"query_id\":0,\"output\":-1,\"default\":true,\"default_explanation\":\"Failed to retrieve a prediction response within the specified latency SLO\"}', 30006.488000 ms\n"
     ]
    }
   ],
   "source": [
    "import json ,requests\n",
    "from datetime import datetime\n",
    "addr = \"127.0.0.1:1337\"\n",
    "# x = '{\"input\": [1.1, 2.2, 3.3]}'\n",
    "x = [9,2,6,4]\n",
    "predict(addr,x,batch=False)"
   ]
  },
  {
   "cell_type": "code",
   "execution_count": 40,
   "metadata": {},
   "outputs": [
    {
     "name": "stderr",
     "output_type": "stream",
     "text": [
      "20-03-03:21:39:42 INFO     [clipper_admin.py:1424] [default-cluster] Stopped all Clipper cluster and all model containers\n"
     ]
    }
   ],
   "source": [
    "clipper_conn.stop_all()"
   ]
  },
  {
   "cell_type": "markdown",
   "metadata": {},
   "source": [
    "这是 用 clipper实现 快排  现在有点怀疑 clipper是不是 不能对列表排序"
   ]
  },
  {
   "cell_type": "code",
   "execution_count": null,
   "metadata": {},
   "outputs": [],
   "source": []
  }
 ],
 "metadata": {
  "kernelspec": {
   "display_name": "Python 3",
   "language": "python",
   "name": "python3"
  },
  "language_info": {
   "codemirror_mode": {
    "name": "ipython",
    "version": 3
   },
   "file_extension": ".py",
   "mimetype": "text/x-python",
   "name": "python",
   "nbconvert_exporter": "python",
   "pygments_lexer": "ipython3",
   "version": "3.6.1"
  }
 },
 "nbformat": 4,
 "nbformat_minor": 4
}
