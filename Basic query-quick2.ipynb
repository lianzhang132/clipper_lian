{
 "cells": [
  {
   "cell_type": "code",
   "execution_count": 48,
   "metadata": {},
   "outputs": [],
   "source": [
    "def quick_sort(list):\n",
    "    list5 = []\n",
    "    if list == []:\n",
    "        return []\n",
    "    else:\n",
    "        first = list[0]\n",
    "        left = quick_sort([l for l in list[1:]if l < first])\n",
    "        right = quick_sort([l for l in list[1:] if l > first])\n",
    "        list1 = left +[first] + right\n",
    "        for i in list1:\n",
    "            list5.append(str(i))\n",
    "        return list5\n",
    "# a = [1,5,3]\n",
    "# print(quick_sort(a)) ['1', '3', '5']"
   ]
  },
  {
   "cell_type": "code",
   "execution_count": 30,
   "metadata": {},
   "outputs": [],
   "source": [
    "from clipper_admin import ClipperConnection, DockerContainerManager                                                                                                                                     \n",
    "from clipper_admin.deployers.python import deploy_python_closure     "
   ]
  },
  {
   "cell_type": "code",
   "execution_count": 49,
   "metadata": {},
   "outputs": [
    {
     "name": "stderr",
     "output_type": "stream",
     "text": [
      "20-03-04:04:21:42 INFO     [docker_container_manager.py:184] [default-cluster] Starting managed Redis instance in Docker\n",
      "20-03-04:04:21:46 INFO     [docker_container_manager.py:276] [default-cluster] Metric Configuration Saved at /tmp/tmpk634s1zx.yml\n",
      "20-03-04:04:21:48 INFO     [clipper_admin.py:162] [default-cluster] Clipper is running\n"
     ]
    }
   ],
   "source": [
    "from clipper_admin import ClipperConnection, DockerContainerManager\n",
    "clipper_conn = ClipperConnection(DockerContainerManager())\n",
    "clipper_conn.start_clipper()"
   ]
  },
  {
   "cell_type": "code",
   "execution_count": 50,
   "metadata": {},
   "outputs": [],
   "source": [
    "from clipper_admin.deployers import python as python_deployer"
   ]
  },
  {
   "cell_type": "code",
   "execution_count": 51,
   "metadata": {},
   "outputs": [
    {
     "name": "stderr",
     "output_type": "stream",
     "text": [
      "20-03-04:04:21:58 INFO     [deployer_utils.py:41] Saving function to /tmp/tmpyjdafqkaclipper\n",
      "20-03-04:04:21:58 INFO     [deployer_utils.py:51] Serialized and supplied predict function\n",
      "20-03-04:04:21:58 INFO     [python.py:192] Python closure saved\n",
      "20-03-04:04:21:58 INFO     [python.py:206] Using Python 3.6 base image\n",
      "20-03-04:04:21:58 INFO     [clipper_admin.py:534] [default-cluster] Building model Docker image with model data from /tmp/tmpyjdafqkaclipper\n",
      "20-03-04:04:21:58 INFO     [clipper_admin.py:539] [default-cluster] Step 1/2 : FROM clipper/python36-closure-container:0.4.1\n",
      "20-03-04:04:21:58 INFO     [clipper_admin.py:539] [default-cluster]  ---> e5b9dc250c05\n",
      "20-03-04:04:21:58 INFO     [clipper_admin.py:539] [default-cluster] Step 2/2 : COPY /tmp/tmpyjdafqkaclipper /model/\n",
      "20-03-04:04:21:58 INFO     [clipper_admin.py:539] [default-cluster]  ---> 1a5ca8d5fab6\n",
      "20-03-04:04:21:58 INFO     [clipper_admin.py:539] [default-cluster] Successfully built 1a5ca8d5fab6\n",
      "20-03-04:04:21:58 INFO     [clipper_admin.py:539] [default-cluster] Successfully tagged default-cluster-quick-model:1\n",
      "20-03-04:04:21:58 INFO     [clipper_admin.py:541] [default-cluster] Pushing model Docker image to default-cluster-quick-model:1\n",
      "20-03-04:04:22:03 INFO     [docker_container_manager.py:409] [default-cluster] Found 0 replicas for quick-model:1. Adding 1\n",
      "20-03-04:04:22:04 INFO     [clipper_admin.py:724] [default-cluster] Successfully registered model quick-model:1\n",
      "20-03-04:04:22:04 INFO     [clipper_admin.py:642] [default-cluster] Done deploying model quick-model:1.\n"
     ]
    }
   ],
   "source": [
    "python_deployer.deploy_python_closure(clipper_conn, name=\"quick-model\", version=1, input_type=\"int\", func=quick_sort)"
   ]
  },
  {
   "cell_type": "code",
   "execution_count": 52,
   "metadata": {},
   "outputs": [
    {
     "name": "stderr",
     "output_type": "stream",
     "text": [
      "20-03-04:04:22:18 INFO     [clipper_admin.py:236] [default-cluster] Application quick-world was successfully registered\n"
     ]
    }
   ],
   "source": [
    "clipper_conn.register_application(name=\"quick-world\", input_type=\"int\", default_output=\"-1.0\", slo_micros=100000)"
   ]
  },
  {
   "cell_type": "code",
   "execution_count": 54,
   "metadata": {},
   "outputs": [
    {
     "name": "stderr",
     "output_type": "stream",
     "text": [
      "20-03-04:04:23:21 INFO     [clipper_admin.py:303] [default-cluster] Model quick-model is now linked to application quick-world\n"
     ]
    }
   ],
   "source": [
    "clipper_conn.link_model_to_app(app_name=\"quick-world\", model_name=\"quick-model\")"
   ]
  },
  {
   "cell_type": "code",
   "execution_count": 55,
   "metadata": {},
   "outputs": [
    {
     "data": {
      "text/plain": [
       "{'query_id': 0,\n",
       " 'output': -1.0,\n",
       " 'default': True,\n",
       " 'default_explanation': 'Failed to retrieve a prediction response within the specified latency SLO'}"
      ]
     },
     "execution_count": 55,
     "metadata": {},
     "output_type": "execute_result"
    }
   ],
   "source": [
    "import requests, json, numpy as np\n",
    "headers = {\"Content-type\": \"application/json\"}\n",
    "requests.post(\"http://localhost:1337/quick-world/predict\", headers=headers, data=json.dumps({\"input\": [9,2,3]})).json()"
   ]
  },
  {
   "cell_type": "code",
   "execution_count": 45,
   "metadata": {},
   "outputs": [],
   "source": [
    "clipper_conn = ClipperConnection(DockerContainerManager()) "
   ]
  },
  {
   "cell_type": "code",
   "execution_count": 32,
   "metadata": {},
   "outputs": [
    {
     "name": "stderr",
     "output_type": "stream",
     "text": [
      "20-03-04:03:50:57 INFO     [docker_container_manager.py:184] [default-cluster] Starting managed Redis instance in Docker\n",
      "20-03-04:03:51:01 INFO     [docker_container_manager.py:276] [default-cluster] Metric Configuration Saved at /tmp/tmpz4fx_zmb.yml\n",
      "20-03-04:03:51:02 INFO     [clipper_admin.py:162] [default-cluster] Clipper is running\n"
     ]
    }
   ],
   "source": [
    "clipper_conn.start_clipper()\n",
    "# Note that if the cluster is already created by start_clipper(), you can just connect to it using clipper_conn.connect() function."
   ]
  },
  {
   "cell_type": "code",
   "execution_count": 33,
   "metadata": {},
   "outputs": [
    {
     "name": "stderr",
     "output_type": "stream",
     "text": [
      "20-03-04:03:51:05 INFO     [clipper_admin.py:172] [default-cluster] Successfully connected to Clipper cluster at localhost:1337\n"
     ]
    }
   ],
   "source": [
    "clipper_conn.connect()"
   ]
  },
  {
   "cell_type": "code",
   "execution_count": 34,
   "metadata": {},
   "outputs": [
    {
     "name": "stderr",
     "output_type": "stream",
     "text": [
      "20-03-04:03:51:10 INFO     [clipper_admin.py:236] [default-cluster] Application app-sort0 was successfully registered\n"
     ]
    }
   ],
   "source": [
    "clipper_conn.register_application(\n",
    "    name=\"app-sort0\", input_type=\"int\", default_output=\"-1.0\", slo_micros=1000000)"
   ]
  },
  {
   "cell_type": "code",
   "execution_count": 35,
   "metadata": {},
   "outputs": [
    {
     "name": "stderr",
     "output_type": "stream",
     "text": [
      "20-03-04:03:51:24 INFO     [deployer_utils.py:41] Saving function to /tmp/tmpo59ovru3clipper\n",
      "20-03-04:03:51:24 INFO     [deployer_utils.py:51] Serialized and supplied predict function\n",
      "20-03-04:03:51:24 INFO     [python.py:192] Python closure saved\n",
      "20-03-04:03:51:24 INFO     [python.py:206] Using Python 3.6 base image\n",
      "20-03-04:03:51:24 INFO     [clipper_admin.py:534] [default-cluster] Building model Docker image with model data from /tmp/tmpo59ovru3clipper\n",
      "20-03-04:03:51:24 INFO     [clipper_admin.py:539] [default-cluster] Step 1/2 : FROM clipper/python36-closure-container:0.4.1\n",
      "20-03-04:03:51:24 INFO     [clipper_admin.py:539] [default-cluster]  ---> e5b9dc250c05\n",
      "20-03-04:03:51:24 INFO     [clipper_admin.py:539] [default-cluster] Step 2/2 : COPY /tmp/tmpo59ovru3clipper /model/\n",
      "20-03-04:03:51:24 INFO     [clipper_admin.py:539] [default-cluster]  ---> b5fbd7659142\n",
      "20-03-04:03:51:24 INFO     [clipper_admin.py:539] [default-cluster] Successfully built b5fbd7659142\n",
      "20-03-04:03:51:24 INFO     [clipper_admin.py:539] [default-cluster] Successfully tagged default-cluster-mod-sort0:1\n",
      "20-03-04:03:51:24 INFO     [clipper_admin.py:541] [default-cluster] Pushing model Docker image to default-cluster-mod-sort0:1\n",
      "20-03-04:03:51:31 INFO     [docker_container_manager.py:409] [default-cluster] Found 0 replicas for mod-sort0:1. Adding 1\n",
      "20-03-04:03:51:32 INFO     [clipper_admin.py:724] [default-cluster] Successfully registered model mod-sort0:1\n",
      "20-03-04:03:51:32 INFO     [clipper_admin.py:642] [default-cluster] Done deploying model mod-sort0:1.\n"
     ]
    }
   ],
   "source": [
    "deploy_python_closure(\n",
    "    clipper_conn,\n",
    "    name=\"mod-sort0\",\n",
    "    version=1,\n",
    "    input_type=\"int\",\n",
    "    func=quick_sort)"
   ]
  },
  {
   "cell_type": "code",
   "execution_count": 36,
   "metadata": {},
   "outputs": [
    {
     "name": "stderr",
     "output_type": "stream",
     "text": [
      "20-03-04:03:51:40 INFO     [clipper_admin.py:303] [default-cluster] Model mod-sort0 is now linked to application app-sort0\n"
     ]
    }
   ],
   "source": [
    "clipper_conn.link_model_to_app(\n",
    "    app_name=\"app-sort0\",\n",
    "    model_name=\"mod-sort0\")"
   ]
  },
  {
   "cell_type": "code",
   "execution_count": 37,
   "metadata": {},
   "outputs": [],
   "source": [
    "def predict(addr, x, batch=False):\n",
    "    url = \"http://%s/app-sort0/predict\" % addr\n",
    "\n",
    "    if batch:\n",
    "        req_json = json.dumps({'input_batch': x})\n",
    "    else:\n",
    "        req_json = json.dumps({'input': list(x)})\n",
    "\n",
    "    headers = {'Content-type': 'application/json'}\n",
    "    start = datetime.now()\n",
    "    r = requests.post(url, headers=headers, data=req_json)\n",
    "    end = datetime.now()\n",
    "    latency = (end - start).total_seconds() * 1000.0\n",
    "    print(\"'%s', %f ms\" % (r.text, latency))"
   ]
  },
  {
   "cell_type": "code",
   "execution_count": 38,
   "metadata": {},
   "outputs": [
    {
     "name": "stdout",
     "output_type": "stream",
     "text": [
      "'{\"query_id\":0,\"output\":-1.0,\"default\":true,\"default_explanation\":\"Failed to retrieve a prediction response within the specified latency SLO\"}', 1008.190000 ms\n"
     ]
    }
   ],
   "source": [
    "import json ,requests\n",
    "from datetime import datetime\n",
    "addr = \"127.0.0.1:1337\"\n",
    "# x = '{\"input\": [1.1, 2.2, 3.3]}'\n",
    "x = [1,5,0,7]\n",
    "predict(addr,x,batch=False)"
   ]
  },
  {
   "cell_type": "code",
   "execution_count": 27,
   "metadata": {},
   "outputs": [
    {
     "data": {
      "text/plain": [
       "{'query_id': 0,\n",
       " 'output': -1.0,\n",
       " 'default': True,\n",
       " 'default_explanation': 'Failed to retrieve a prediction response within the specified latency SLO'}"
      ]
     },
     "execution_count": 27,
     "metadata": {},
     "output_type": "execute_result"
    }
   ],
   "source": [
    "import requests, json, numpy as np\n",
    "headers = {\"Content-type\": \"application/json\"}\n",
    "requests.post(\"http://localhost:1337/app-sort0/predict\", headers=headers, data=json.dumps({\"input\": [7,2,3]})).json()"
   ]
  },
  {
   "cell_type": "code",
   "execution_count": 1,
   "metadata": {},
   "outputs": [
    {
     "ename": "NameError",
     "evalue": "name 'clipper_conn' is not defined",
     "output_type": "error",
     "traceback": [
      "\u001b[0;31m---------------------------------------------------------------------------\u001b[0m",
      "\u001b[0;31mNameError\u001b[0m                                 Traceback (most recent call last)",
      "\u001b[0;32m<ipython-input-1-da695a22dfbd>\u001b[0m in \u001b[0;36m<module>\u001b[0;34m\u001b[0m\n\u001b[0;32m----> 1\u001b[0;31m \u001b[0mclipper_conn\u001b[0m\u001b[0;34m.\u001b[0m\u001b[0mstop_all\u001b[0m\u001b[0;34m(\u001b[0m\u001b[0;34m)\u001b[0m\u001b[0;34m\u001b[0m\u001b[0m\n\u001b[0m",
      "\u001b[0;31mNameError\u001b[0m: name 'clipper_conn' is not defined"
     ]
    }
   ],
   "source": [
    "clipper_conn.stop_all()"
   ]
  },
  {
   "cell_type": "code",
   "execution_count": null,
   "metadata": {},
   "outputs": [],
   "source": []
  }
 ],
 "metadata": {
  "kernelspec": {
   "display_name": "Python 3",
   "language": "python",
   "name": "python3"
  },
  "language_info": {
   "codemirror_mode": {
    "name": "ipython",
    "version": 3
   },
   "file_extension": ".py",
   "mimetype": "text/x-python",
   "name": "python",
   "nbconvert_exporter": "python",
   "pygments_lexer": "ipython3",
   "version": "3.6.1"
  }
 },
 "nbformat": 4,
 "nbformat_minor": 4
}
