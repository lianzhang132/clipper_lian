{
 "cells": [
  {
   "cell_type": "code",
   "execution_count": 10,
   "metadata": {},
   "outputs": [],
   "source": [
    "import base64\n",
    "import json\n",
    "import requests\n"
   ]
  },
  {
   "cell_type": "code",
   "execution_count": 5,
   "metadata": {},
   "outputs": [
    {
     "data": {
      "text/plain": [
       "b'\\x89PNG\\r\\n\\x1a\\n\\x00\\x00'"
      ]
     },
     "execution_count": 5,
     "metadata": {},
     "output_type": "execute_result"
    }
   ],
   "source": [
    "raw_bytes = open('/root/imgs/1.png', \"rb\").read()\n",
    "raw_bytes[:10]"
   ]
  },
  {
   "cell_type": "code",
   "execution_count": 6,
   "metadata": {},
   "outputs": [
    {
     "name": "stdout",
     "output_type": "stream",
     "text": [
      "<class 'bytes'>\n"
     ]
    },
    {
     "data": {
      "text/plain": [
       "b'iVBORw0KGg'"
      ]
     },
     "execution_count": 6,
     "metadata": {},
     "output_type": "execute_result"
    }
   ],
   "source": [
    "encoded_bytes = base64.b64encode(raw_bytes)\n",
    "print(type(encoded_bytes))\n",
    "encoded_bytes[:10]"
   ]
  },
  {
   "cell_type": "code",
   "execution_count": 7,
   "metadata": {},
   "outputs": [
    {
     "name": "stdout",
     "output_type": "stream",
     "text": [
      "<class 'str'>\n"
     ]
    },
    {
     "data": {
      "text/plain": [
       "'iVBORw0KGg'"
      ]
     },
     "execution_count": 7,
     "metadata": {},
     "output_type": "execute_result"
    }
   ],
   "source": [
    "\n",
    "encoded_string = encoded_bytes.decode()\n",
    "print(type(encoded_string))\n",
    "encoded_string[:10]"
   ]
  },
  {
   "cell_type": "code",
   "execution_count": 9,
   "metadata": {},
   "outputs": [],
   "source": [
    "\n",
    "def query(addr, filename):\n",
    "    url = \"http://%s/image-example/predict\" % addr\n",
    "    req_json = json.dumps({\n",
    "        \"input\":\n",
    "        base64.b64encode(open(filename, \"rb\").read()).decode() # bytes to unicode\n",
    "    })\n",
    "    headers = {'Content-type': 'application/json'}\n",
    "    print(req_json)\n",
    "    r = requests.post(url, headers=headers, data=req_json)\n",
    "    print(r.json())"
   ]
  },
  {
   "cell_type": "code",
   "execution_count": 10,
   "metadata": {},
   "outputs": [],
   "source": [
    "def image_size(imgs):\n",
    "    \"\"\"\n",
    "    Input: \n",
    "    - imgs : (np.ndarray) of shape (n, d). n is the number of data in this batch\n",
    "             d is the length of the bytes as numpy int8 array.  \n",
    "    Output:\n",
    "    - sizes : List[Tuple(int, int),...]\n",
    "    \"\"\"\n",
    "    import base64\n",
    "    import io\n",
    "    import os\n",
    "    import PIL.Image\n",
    "    import tempfile\n",
    "  \n",
    "    num_imgs = len(imgs)\n",
    "    \n",
    "    sizes = []\n",
    "    for i in range(num_imgs):\n",
    "        # Create a temp file to write to\n",
    "        tmp = tempfile.NamedTemporaryFile('wb', delete=False, suffix='.png')\n",
    "        tmp.write(io.BytesIO(imgs[i]).getvalue())\n",
    "        tmp.close()\n",
    "        \n",
    "        # Use PIL to read in the file and compute size\n",
    "        size = PIL.Image.open(tmp.name, 'r').size\n",
    "        image_test = PIL.Image.open(tmp.name, 'r')\n",
    "#         print(dir(image_test))\n",
    "        \n",
    "        # Remove the temp file\n",
    "        os.unlink(tmp.name) \n",
    "\n",
    "        sizes.append(size)\n",
    "    return sizes"
   ]
  },
  {
   "cell_type": "markdown",
   "metadata": {},
   "source": [
    "Image.open返回一个Image对象，该对象有size,format,mode，filename，width，height，palette，info等属性，其中\n",
    "size表示图像的宽度和高度(像素表示);\n",
    "format表示图像的格式,常见的包括JPEG,PNG等格式;\n",
    "mode表示图像的模式，定义了像素类型还有图像深度等，常见的有RGB,HSV等。一般来说'L'(luminance)表示灰度图像,'RGB'表示真彩图像,'CMYK'表示预先压缩的图像。\n",
    "filename：文件名字\n",
    "width：像素文件宽\n",
    "height：像素文件高\n",
    "palette：调色板表，如果有的话。如果模式是“P”或“PA”，这应该是ImagePalette类的一个实例。否则，应该将其设置为None。\n",
    "info：关于该图像的字典形式信息\n",
    "一旦你得到了打开的Image对象之后，就可以使用其众多的方法对图像进行处理了，比如使用im.show()可以展示上面得到的图像。"
   ]
  },
  {
   "cell_type": "code",
   "execution_count": 14,
   "metadata": {},
   "outputs": [],
   "source": [
    "def image_mode(imgs):\n",
    "    \"\"\"\n",
    "    Input: \n",
    "    - imgs : (np.ndarray) of shape (n, d). n is the number of data in this batch\n",
    "             d is the length of the bytes as numpy int8 array.  \n",
    "    Output:\n",
    "    - sizes : List[Tuple(int, int),...]\n",
    "    \"\"\"\n",
    "    import base64\n",
    "    import io\n",
    "    import os\n",
    "    import PIL.Image\n",
    "    import tempfile\n",
    "  \n",
    "    num_imgs = len(imgs)\n",
    "    \n",
    "    modes = []\n",
    "    for i in range(num_imgs):\n",
    "        # Create a temp file to write to\n",
    "        tmp = tempfile.NamedTemporaryFile('wb', delete=False, suffix='.png')\n",
    "        tmp.write(io.BytesIO(imgs[i]).getvalue())\n",
    "        tmp.close()\n",
    "        \n",
    "        # Use PIL to read in the file and compute size\n",
    "        mode = PIL.Image.open(tmp.name, 'r').mode\n",
    "#         image_test = PIL.Image.open(tmp.name, 'r')\n",
    "#         print(dir(image_test))\n",
    "        \n",
    "        # Remove the temp file\n",
    "        os.unlink(tmp.name) \n",
    "\n",
    "        modes.append(mode)\n",
    "    return modes"
   ]
  },
  {
   "cell_type": "code",
   "execution_count": 1,
   "metadata": {},
   "outputs": [],
   "source": [
    "def image_filename(imgs):\n",
    "    \"\"\"\n",
    "    Input: \n",
    "    - imgs : (np.ndarray) of shape (n, d). n is the number of data in this batch\n",
    "             d is the length of the bytes as numpy int8 array.  \n",
    "    Output:\n",
    "    - sizes : List[Tuple(int, int),...]\n",
    "    \"\"\"\n",
    "    import base64\n",
    "    import io\n",
    "    import os\n",
    "    import PIL.Image\n",
    "    import tempfile\n",
    "  \n",
    "    num_imgs = len(imgs)\n",
    "    \n",
    "    filenames = []\n",
    "    for i in range(num_imgs):\n",
    "        # Create a temp file to write to\n",
    "        tmp = tempfile.NamedTemporaryFile('wb', delete=False, suffix='.png')\n",
    "        tmp.write(io.BytesIO(imgs[i]).getvalue())\n",
    "        tmp.close()\n",
    "        \n",
    "        # Use PIL to read in the file and compute size\n",
    "        filename = PIL.Image.open(tmp.name, 'r').filename\n",
    "#         image_test = PIL.Image.open(tmp.name, 'r')\n",
    "#         print(dir(image_test))\n",
    "        \n",
    "        # Remove the temp file\n",
    "        os.unlink(tmp.name) \n",
    "\n",
    "        filenames.append(filename)\n",
    "    return filenames"
   ]
  },
  {
   "cell_type": "code",
   "execution_count": 8,
   "metadata": {},
   "outputs": [
    {
     "ename": "TypeError",
     "evalue": "a bytes-like object is required, not 'str'",
     "output_type": "error",
     "traceback": [
      "\u001b[0;31m---------------------------------------------------------------------------\u001b[0m",
      "\u001b[0;31mTypeError\u001b[0m                                 Traceback (most recent call last)",
      "\u001b[0;32m<ipython-input-8-bf3d16688f08>\u001b[0m in \u001b[0;36m<module>\u001b[0;34m\u001b[0m\n\u001b[0;32m----> 1\u001b[0;31m \u001b[0mimage_size\u001b[0m\u001b[0;34m(\u001b[0m\u001b[0;34m'/root/imgs/2.png'\u001b[0m\u001b[0;34m)\u001b[0m\u001b[0;34m\u001b[0m\u001b[0m\n\u001b[0m",
      "\u001b[0;32m<ipython-input-3-25573499ca3e>\u001b[0m in \u001b[0;36mimage_size\u001b[0;34m(imgs)\u001b[0m\n\u001b[1;32m     19\u001b[0m         \u001b[0;31m# Create a temp file to write to\u001b[0m\u001b[0;34m\u001b[0m\u001b[0;34m\u001b[0m\u001b[0m\n\u001b[1;32m     20\u001b[0m         \u001b[0mtmp\u001b[0m \u001b[0;34m=\u001b[0m \u001b[0mtempfile\u001b[0m\u001b[0;34m.\u001b[0m\u001b[0mNamedTemporaryFile\u001b[0m\u001b[0;34m(\u001b[0m\u001b[0;34m'wb'\u001b[0m\u001b[0;34m,\u001b[0m \u001b[0mdelete\u001b[0m\u001b[0;34m=\u001b[0m\u001b[0;32mFalse\u001b[0m\u001b[0;34m,\u001b[0m \u001b[0msuffix\u001b[0m\u001b[0;34m=\u001b[0m\u001b[0;34m'.png'\u001b[0m\u001b[0;34m)\u001b[0m\u001b[0;34m\u001b[0m\u001b[0m\n\u001b[0;32m---> 21\u001b[0;31m         \u001b[0mtmp\u001b[0m\u001b[0;34m.\u001b[0m\u001b[0mwrite\u001b[0m\u001b[0;34m(\u001b[0m\u001b[0mio\u001b[0m\u001b[0;34m.\u001b[0m\u001b[0mBytesIO\u001b[0m\u001b[0;34m(\u001b[0m\u001b[0mimgs\u001b[0m\u001b[0;34m[\u001b[0m\u001b[0mi\u001b[0m\u001b[0;34m]\u001b[0m\u001b[0;34m)\u001b[0m\u001b[0;34m.\u001b[0m\u001b[0mgetvalue\u001b[0m\u001b[0;34m(\u001b[0m\u001b[0;34m)\u001b[0m\u001b[0;34m)\u001b[0m\u001b[0;34m\u001b[0m\u001b[0m\n\u001b[0m\u001b[1;32m     22\u001b[0m         \u001b[0mtmp\u001b[0m\u001b[0;34m.\u001b[0m\u001b[0mclose\u001b[0m\u001b[0;34m(\u001b[0m\u001b[0;34m)\u001b[0m\u001b[0;34m\u001b[0m\u001b[0m\n\u001b[1;32m     23\u001b[0m \u001b[0;34m\u001b[0m\u001b[0m\n",
      "\u001b[0;31mTypeError\u001b[0m: a bytes-like object is required, not 'str'"
     ]
    }
   ],
   "source": [
    "image_size('/root/imgs/2.png')"
   ]
  },
  {
   "cell_type": "code",
   "execution_count": 7,
   "metadata": {
    "scrolled": true
   },
   "outputs": [
    {
     "name": "stderr",
     "output_type": "stream",
     "text": [
      "20-03-05:22:01:21 INFO     [docker_container_manager.py:184] [default-cluster] Starting managed Redis instance in Docker\n",
      "20-03-05:22:01:26 INFO     [docker_container_manager.py:276] [default-cluster] Metric Configuration Saved at /tmp/tmp7z59amxb.yml\n",
      "20-03-05:22:01:27 INFO     [clipper_admin.py:162] [default-cluster] Clipper is running\n",
      "20-03-05:22:01:27 INFO     [clipper_admin.py:236] [default-cluster] Application image-filename was successfully registered\n",
      "20-03-05:22:01:27 INFO     [deployer_utils.py:41] Saving function to /tmp/tmpq7rg3m8vclipper\n",
      "20-03-05:22:01:27 INFO     [deployer_utils.py:51] Serialized and supplied predict function\n",
      "20-03-05:22:01:27 INFO     [python.py:192] Python closure saved\n",
      "20-03-05:22:01:27 INFO     [python.py:206] Using Python 3.6 base image\n",
      "20-03-05:22:01:27 INFO     [clipper_admin.py:534] [default-cluster] Building model Docker image with model data from /tmp/tmpq7rg3m8vclipper\n",
      "20-03-05:22:01:28 INFO     [clipper_admin.py:539] [default-cluster] Step 1/3 : FROM clipper/python36-closure-container:0.4.1\n",
      "20-03-05:22:01:28 INFO     [clipper_admin.py:539] [default-cluster]  ---> e5b9dc250c05\n",
      "20-03-05:22:01:28 INFO     [clipper_admin.py:539] [default-cluster] Step 2/3 : RUN apt-get -y install build-essential && pip install pillow\n",
      "20-03-05:22:01:28 INFO     [clipper_admin.py:539] [default-cluster]  ---> Using cache\n",
      "20-03-05:22:01:28 INFO     [clipper_admin.py:539] [default-cluster]  ---> 5998d845bf96\n",
      "20-03-05:22:01:28 INFO     [clipper_admin.py:539] [default-cluster] Step 3/3 : COPY /tmp/tmpq7rg3m8vclipper /model/\n",
      "20-03-05:22:01:28 INFO     [clipper_admin.py:539] [default-cluster]  ---> ccd86d0b28b0\n",
      "20-03-05:22:01:28 INFO     [clipper_admin.py:539] [default-cluster] Successfully built ccd86d0b28b0\n",
      "20-03-05:22:01:28 INFO     [clipper_admin.py:539] [default-cluster] Successfully tagged default-cluster-image-filename:1\n",
      "20-03-05:22:01:28 INFO     [clipper_admin.py:541] [default-cluster] Pushing model Docker image to default-cluster-image-filename:1\n",
      "20-03-05:22:01:28 INFO     [docker_container_manager.py:409] [default-cluster] Found 0 replicas for image-filename:1. Adding 1\n",
      "20-03-05:22:01:29 INFO     [clipper_admin.py:724] [default-cluster] Successfully registered model image-filename:1\n",
      "20-03-05:22:01:29 INFO     [clipper_admin.py:642] [default-cluster] Done deploying model image-filename:1.\n",
      "20-03-05:22:01:29 INFO     [clipper_admin.py:303] [default-cluster] Model image-filename is now linked to application image-filename\n"
     ]
    }
   ],
   "source": [
    "\n",
    "from clipper_admin import ClipperConnection, DockerContainerManager\n",
    "from clipper_admin.deployers import python as python_deployer\n",
    "\n",
    "clipper_conn = ClipperConnection(DockerContainerManager())\n",
    "clipper_conn.start_clipper()\n",
    "\n",
    "\n",
    "python_deployer.create_endpoint(\n",
    "    clipper_conn=clipper_conn, \n",
    "    name=\"image-filename\", \n",
    "    input_type=\"bytes\", \n",
    "    func=image_filename, \n",
    "    pkgs_to_install=['pillow']\n",
    ")"
   ]
  },
  {
   "cell_type": "code",
   "execution_count": 11,
   "metadata": {},
   "outputs": [],
   "source": [
    "def query(addr, filename):\n",
    "    url = \"http://%s/image-filename/predict\" % addr\n",
    "    req_json = json.dumps({\n",
    "        \"input\":\n",
    "        base64.b64encode(open(filename, \"rb\").read()).decode() # bytes to unicode\n",
    "    })\n",
    "    headers = {'Content-type': 'application/json'}\n",
    "#     print(req_json)\n",
    "    r = requests.post(url, headers=headers, data=req_json)\n",
    "    print(r.json())"
   ]
  },
  {
   "cell_type": "code",
   "execution_count": 12,
   "metadata": {},
   "outputs": [
    {
     "name": "stdout",
     "output_type": "stream",
     "text": [
      "{'query_id': 0, 'output': '/tmp/tmppfmoqb79.png', 'default': False}\n"
     ]
    }
   ],
   "source": [
    "\n",
    "query(clipper_conn.get_query_addr(), '/root/imgs/2.png')"
   ]
  },
  {
   "cell_type": "code",
   "execution_count": 11,
   "metadata": {},
   "outputs": [],
   "source": [
    "def query_json(addr, filename, image_format):\n",
    "    url = \"http://%s/image-example-string/predict\" % addr\n",
    "    req_json = json.dumps({\n",
    "        \"input\":\n",
    "        json.dumps({\n",
    "            'data': base64.b64encode(open(filename, \"rb\").read()).decode(),\n",
    "            'format': image_format\n",
    "        })\n",
    "    })\n",
    "    headers = {'Content-type': 'application/json'}\n",
    "    r = requests.post(url, headers=headers, data=req_json)\n",
    "    print(r.json())"
   ]
  },
  {
   "cell_type": "code",
   "execution_count": 12,
   "metadata": {},
   "outputs": [],
   "source": [
    "def image_size_json(imgs):\n",
    "    \"\"\"\n",
    "    Input: \n",
    "    - imgs : an array of strings \n",
    "    Output:\n",
    "    - sizes : List[Tuple(int, int),...]\n",
    "    \"\"\"\n",
    "    import base64\n",
    "    import io\n",
    "    import os\n",
    "    import PIL.Image\n",
    "    import tempfile\n",
    "    import json\n",
    "  \n",
    "    num_imgs = len(imgs)\n",
    "    sizes = []\n",
    "    for i in range(num_imgs):\n",
    "        # Deserialize the query\n",
    "        data = json.loads(imgs[i])\n",
    "        image_format = data['format']\n",
    "        image_bytes = data['data'].encode()\n",
    "        \n",
    "        # Create a temp file to write to\n",
    "        tmp = tempfile.NamedTemporaryFile('wb', delete=False, suffix='.{}'.format(image_format))\n",
    "        tmp.write(io.BytesIO(base64.b64decode(image_bytes)).getvalue())\n",
    "        tmp.close()\n",
    "        \n",
    "        # Use PIL to read in the file and compute size\n",
    "        size = PIL.Image.open(tmp.name, 'r').size\n",
    "        \n",
    "        # Remove the temp file\n",
    "        os.unlink(tmp.name) \n",
    "\n",
    "        sizes.append(size)\n",
    "    return sizes"
   ]
  },
  {
   "cell_type": "code",
   "execution_count": 13,
   "metadata": {},
   "outputs": [
    {
     "name": "stderr",
     "output_type": "stream",
     "text": [
      "20-01-09:04:25:19 INFO     [clipper_admin.py:236] [default-cluster] Application image-example-string was successfully registered\n",
      "20-01-09:04:25:19 INFO     [deployer_utils.py:41] Saving function to /tmp/tmp21bhbyl1clipper\n",
      "20-01-09:04:25:19 INFO     [deployer_utils.py:51] Serialized and supplied predict function\n",
      "20-01-09:04:25:19 INFO     [python.py:192] Python closure saved\n",
      "20-01-09:04:25:19 INFO     [python.py:206] Using Python 3.6 base image\n",
      "20-01-09:04:25:19 INFO     [clipper_admin.py:534] [default-cluster] Building model Docker image with model data from /tmp/tmp21bhbyl1clipper\n",
      "20-01-09:04:25:20 INFO     [clipper_admin.py:539] [default-cluster] Step 1/3 : FROM clipper/python36-closure-container:0.4.1\n",
      "20-01-09:04:25:20 INFO     [clipper_admin.py:539] [default-cluster]  ---> e5b9dc250c05\n",
      "20-01-09:04:25:20 INFO     [clipper_admin.py:539] [default-cluster] Step 2/3 : RUN apt-get -y install build-essential && pip install pillow\n",
      "20-01-09:04:25:20 INFO     [clipper_admin.py:539] [default-cluster]  ---> Using cache\n",
      "20-01-09:04:25:20 INFO     [clipper_admin.py:539] [default-cluster]  ---> 5998d845bf96\n",
      "20-01-09:04:25:20 INFO     [clipper_admin.py:539] [default-cluster] Step 3/3 : COPY /tmp/tmp21bhbyl1clipper /model/\n",
      "20-01-09:04:25:20 INFO     [clipper_admin.py:539] [default-cluster]  ---> 61f331e28868\n",
      "20-01-09:04:25:20 INFO     [clipper_admin.py:539] [default-cluster] Successfully built 61f331e28868\n",
      "20-01-09:04:25:20 INFO     [clipper_admin.py:539] [default-cluster] Successfully tagged default-cluster-image-example-string:1\n",
      "20-01-09:04:25:20 INFO     [clipper_admin.py:541] [default-cluster] Pushing model Docker image to default-cluster-image-example-string:1\n",
      "20-01-09:04:25:23 INFO     [docker_container_manager.py:409] [default-cluster] Found 0 replicas for image-example-string:1. Adding 1\n",
      "20-01-09:04:25:24 INFO     [clipper_admin.py:724] [default-cluster] Successfully registered model image-example-string:1\n",
      "20-01-09:04:25:24 INFO     [clipper_admin.py:642] [default-cluster] Done deploying model image-example-string:1.\n",
      "20-01-09:04:25:24 INFO     [clipper_admin.py:303] [default-cluster] Model image-example-string is now linked to application image-example-string\n"
     ]
    }
   ],
   "source": [
    "\n",
    "python_deployer.create_endpoint(\n",
    "    clipper_conn=clipper_conn, \n",
    "    name=\"image-example-string\", \n",
    "    input_type=\"strings\", \n",
    "    func=image_size_json, \n",
    "    pkgs_to_install=['pillow']\n",
    ")"
   ]
  },
  {
   "cell_type": "code",
   "execution_count": 14,
   "metadata": {},
   "outputs": [
    {
     "name": "stdout",
     "output_type": "stream",
     "text": [
      "{'query_id': 2, 'output': '(260, 565)', 'default': False}\n"
     ]
    }
   ],
   "source": [
    "query_json(clipper_conn.get_query_addr(), '/root/imgs/3.jpg', 'jpg')"
   ]
  },
  {
   "cell_type": "code",
   "execution_count": 15,
   "metadata": {},
   "outputs": [
    {
     "name": "stdout",
     "output_type": "stream",
     "text": [
      "{'query_id': 3, 'output': '(420, 764)', 'default': False}\n"
     ]
    }
   ],
   "source": [
    "query_json(clipper_conn.get_query_addr(), '/root/imgs/2.png', 'png')"
   ]
  },
  {
   "cell_type": "code",
   "execution_count": 6,
   "metadata": {},
   "outputs": [
    {
     "name": "stderr",
     "output_type": "stream",
     "text": [
      "20-03-05:22:00:06 INFO     [clipper_admin.py:1424] [default-cluster] Stopped all Clipper cluster and all model containers\n"
     ]
    }
   ],
   "source": [
    "\n",
    "clipper_conn.stop_all()\n"
   ]
  },
  {
   "cell_type": "code",
   "execution_count": null,
   "metadata": {},
   "outputs": [],
   "source": []
  }
 ],
 "metadata": {
  "kernelspec": {
   "display_name": "Python 3",
   "language": "python",
   "name": "python3"
  },
  "language_info": {
   "codemirror_mode": {
    "name": "ipython",
    "version": 3
   },
   "file_extension": ".py",
   "mimetype": "text/x-python",
   "name": "python",
   "nbconvert_exporter": "python",
   "pygments_lexer": "ipython3",
   "version": "3.6.1"
  }
 },
 "nbformat": 4,
 "nbformat_minor": 4
}
