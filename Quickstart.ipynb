{
 "cells": [
  {
   "cell_type": "code",
   "execution_count": 2,
   "metadata": {},
   "outputs": [
    {
     "name": "stderr",
     "output_type": "stream",
     "text": [
      "20-01-12:21:45:19 INFO     [docker_container_manager.py:184] [default-cluster] Starting managed Redis instance in Docker\n",
      "20-01-12:21:45:23 INFO     [docker_container_manager.py:276] [default-cluster] Metric Configuration Saved at /tmp/tmpje6skfad.yml\n",
      "20-01-12:21:45:24 INFO     [clipper_admin.py:162] [default-cluster] Clipper is running\n"
     ]
    }
   ],
   "source": [
    "from clipper_admin import ClipperConnection, DockerContainerManager\n",
    "clipper_conn = ClipperConnection(DockerContainerManager())\n",
    "clipper_conn.start_clipper()"
   ]
  },
  {
   "cell_type": "code",
   "execution_count": 3,
   "metadata": {},
   "outputs": [
    {
     "name": "stderr",
     "output_type": "stream",
     "text": [
      "20-01-12:21:45:53 INFO     [clipper_admin.py:236] [default-cluster] Application hello-world was successfully registered\n"
     ]
    }
   ],
   "source": [
    "clipper_conn.register_application(name=\"hello-world\", input_type=\"doubles\", default_output=\"-1.0\", slo_micros=100000)"
   ]
  },
  {
   "cell_type": "code",
   "execution_count": 4,
   "metadata": {},
   "outputs": [
    {
     "data": {
      "text/plain": [
       "['hello-world']"
      ]
     },
     "execution_count": 4,
     "metadata": {},
     "output_type": "execute_result"
    }
   ],
   "source": [
    "clipper_conn.get_all_apps()"
   ]
  },
  {
   "cell_type": "code",
   "execution_count": 5,
   "metadata": {},
   "outputs": [],
   "source": [
    "def feature_sum(xs):\n",
    "    return [str(sum(x)) for x in xs]"
   ]
  },
  {
   "cell_type": "code",
   "execution_count": 6,
   "metadata": {},
   "outputs": [],
   "source": [
    "from clipper_admin.deployers import python as python_deployer"
   ]
  },
  {
   "cell_type": "code",
   "execution_count": 7,
   "metadata": {},
   "outputs": [
    {
     "name": "stderr",
     "output_type": "stream",
     "text": [
      "20-01-12:21:49:26 INFO     [deployer_utils.py:41] Saving function to /tmp/tmphl1z9a_1clipper\n",
      "20-01-12:21:49:26 INFO     [deployer_utils.py:51] Serialized and supplied predict function\n",
      "20-01-12:21:49:26 INFO     [python.py:192] Python closure saved\n",
      "20-01-12:21:49:26 INFO     [python.py:206] Using Python 3.6 base image\n",
      "20-01-12:21:49:26 INFO     [clipper_admin.py:534] [default-cluster] Building model Docker image with model data from /tmp/tmphl1z9a_1clipper\n",
      "20-01-12:21:49:27 INFO     [clipper_admin.py:539] [default-cluster] Step 1/2 : FROM clipper/python36-closure-container:0.4.1\n",
      "20-01-12:21:49:27 INFO     [clipper_admin.py:539] [default-cluster]  ---> e5b9dc250c05\n",
      "20-01-12:21:49:27 INFO     [clipper_admin.py:539] [default-cluster] Step 2/2 : COPY /tmp/tmphl1z9a_1clipper /model/\n",
      "20-01-12:21:49:27 INFO     [clipper_admin.py:539] [default-cluster]  ---> 00fe777d67f0\n",
      "20-01-12:21:49:27 INFO     [clipper_admin.py:539] [default-cluster] Successfully built 00fe777d67f0\n",
      "20-01-12:21:49:27 INFO     [clipper_admin.py:539] [default-cluster] Successfully tagged default-cluster-sum-model:1\n",
      "20-01-12:21:49:27 INFO     [clipper_admin.py:541] [default-cluster] Pushing model Docker image to default-cluster-sum-model:1\n",
      "20-01-12:21:49:40 INFO     [docker_container_manager.py:409] [default-cluster] Found 0 replicas for sum-model:1. Adding 1\n",
      "20-01-12:21:49:41 INFO     [clipper_admin.py:724] [default-cluster] Successfully registered model sum-model:1\n",
      "20-01-12:21:49:41 INFO     [clipper_admin.py:642] [default-cluster] Done deploying model sum-model:1.\n"
     ]
    }
   ],
   "source": [
    "python_deployer.deploy_python_closure(clipper_conn, name=\"sum-model\", version=1, input_type=\"doubles\", func=feature_sum)"
   ]
  },
  {
   "cell_type": "code",
   "execution_count": 8,
   "metadata": {},
   "outputs": [
    {
     "name": "stderr",
     "output_type": "stream",
     "text": [
      "20-01-12:21:49:47 INFO     [clipper_admin.py:303] [default-cluster] Model sum-model is now linked to application hello-world\n"
     ]
    }
   ],
   "source": [
    "clipper_conn.link_model_to_app(app_name=\"hello-world\", model_name=\"sum-model\")"
   ]
  },
  {
   "cell_type": "code",
   "execution_count": 9,
   "metadata": {},
   "outputs": [
    {
     "data": {
      "text/plain": [
       "{'query_id': 1, 'output': 5.217010286187675, 'default': False}"
      ]
     },
     "execution_count": 9,
     "metadata": {},
     "output_type": "execute_result"
    }
   ],
   "source": [
    "import requests, json, numpy as np\n",
    "headers = {\"Content-type\": \"application/json\"}\n",
    "requests.post(\"http://localhost:1337/hello-world/predict\", headers=headers, data=json.dumps({\"input\": list(np.random.random(10))})).json()"
   ]
  },
  {
   "cell_type": "code",
   "execution_count": 11,
   "metadata": {},
   "outputs": [
    {
     "name": "stderr",
     "output_type": "stream",
     "text": [
      "20-01-13:06:40:29 INFO     [clipper_admin.py:1424] [default-cluster] Stopped all Clipper cluster and all model containers\n"
     ]
    }
   ],
   "source": [
    "clipper_conn.stop_all()"
   ]
  },
  {
   "cell_type": "code",
   "execution_count": null,
   "metadata": {},
   "outputs": [],
   "source": []
  }
 ],
 "metadata": {
  "kernelspec": {
   "display_name": "Python 3",
   "language": "python",
   "name": "python3"
  },
  "language_info": {
   "codemirror_mode": {
    "name": "ipython",
    "version": 3
   },
   "file_extension": ".py",
   "mimetype": "text/x-python",
   "name": "python",
   "nbconvert_exporter": "python",
   "pygments_lexer": "ipython3",
   "version": "3.6.1"
  }
 },
 "nbformat": 4,
 "nbformat_minor": 4
}
