{
 "cells": [
  {
   "cell_type": "code",
   "execution_count": 2,
   "metadata": {},
   "outputs": [
    {
     "name": "stderr",
     "output_type": "stream",
     "text": [
      "20-03-10:05:08:26 INFO     [docker_container_manager.py:184] [default-cluster] Starting managed Redis instance in Docker\n",
      "20-03-10:05:08:30 INFO     [docker_container_manager.py:276] [default-cluster] Metric Configuration Saved at /tmp/tmp3xh8049g.yml\n",
      "20-03-10:05:08:31 INFO     [clipper_admin.py:162] [default-cluster] Clipper is running\n"
     ]
    }
   ],
   "source": [
    "from clipper_admin import ClipperConnection, DockerContainerManager\n",
    "clipper_conn = ClipperConnection(DockerContainerManager())\n",
    "clipper_conn.start_clipper()"
   ]
  },
  {
   "cell_type": "code",
   "execution_count": null,
   "metadata": {},
   "outputs": [],
   "source": [
    "# example from github\n",
    "def feature_sum(xs):    \n",
    "    return [str(sum(x)) for x in xs]\n",
    "#a = [[1., 2., 3.]]\n",
    "#b = feature_sum(a)\n",
    "#print(b)#['6.0']"
   ]
  },
  {
   "cell_type": "code",
   "execution_count": 3,
   "metadata": {},
   "outputs": [
    {
     "name": "stdout",
     "output_type": "stream",
     "text": [
      "['[1, 3, 7]']\n"
     ]
    }
   ],
   "source": [
    "#插入排序\n",
    "def insert_sort(lists):\n",
    "#     list = lists[0]\n",
    "    list1 = []\n",
    "    for l in range(len(lists)):    \n",
    "        list = lists[l]\n",
    "        length = len(list)\n",
    "        for i in range(1,length):\n",
    "            for j in range(i):\n",
    "                if list[j] > list[j+1]:\n",
    "                    list[j],list[j+1] = list[j+1],list[j]\n",
    "        list1.append(str(list))\n",
    "    return list1\n",
    "a = [[1,7,3]]\n",
    "b = insert_sort(a)\n",
    "print(b) "
   ]
  },
  {
   "cell_type": "code",
   "execution_count": 53,
   "metadata": {},
   "outputs": [],
   "source": [
    "def bubble_sort(lists):\n",
    "    res = list()\n",
    "    for l in range(len(lists)):    \n",
    "        alist = lists[l]\n",
    "        for j in range(len(alist)-1,0,-1):\n",
    "            for i in range(j):\n",
    "                if alist[i] > alist[i+1]:\n",
    "                    alist[i], alist[i+1] = alist[i+1], alist[i]\n",
    "        res.append(str(alist))\n",
    "    return res\n",
    "# a = [[1,7,3]]\n",
    "# b = bubble_sort(a)\n",
    "# print(b) \n",
    "# ['[1, 3, 7]']"
   ]
  },
  {
   "cell_type": "code",
   "execution_count": 12,
   "metadata": {},
   "outputs": [
    {
     "name": "stdout",
     "output_type": "stream",
     "text": [
      "[1, 7, 3]\n"
     ]
    },
    {
     "ename": "IndexError",
     "evalue": "list index out of range",
     "output_type": "error",
     "traceback": [
      "\u001b[0;31m---------------------------------------------------------------------------\u001b[0m",
      "\u001b[0;31mIndexError\u001b[0m                                Traceback (most recent call last)",
      "\u001b[0;32m<ipython-input-12-5ed7efcc2d67>\u001b[0m in \u001b[0;36m<module>\u001b[0;34m\u001b[0m\n\u001b[1;32m     15\u001b[0m     \u001b[0;32mreturn\u001b[0m \u001b[0mlist5\u001b[0m\u001b[0;34m\u001b[0m\u001b[0m\n\u001b[1;32m     16\u001b[0m \u001b[0ma\u001b[0m \u001b[0;34m=\u001b[0m \u001b[0;34m[\u001b[0m\u001b[0;34m[\u001b[0m\u001b[0;36m1\u001b[0m\u001b[0;34m,\u001b[0m\u001b[0;36m7\u001b[0m\u001b[0;34m,\u001b[0m\u001b[0;36m3\u001b[0m\u001b[0;34m]\u001b[0m\u001b[0;34m]\u001b[0m\u001b[0;34m\u001b[0m\u001b[0m\n\u001b[0;32m---> 17\u001b[0;31m \u001b[0mprint\u001b[0m\u001b[0;34m(\u001b[0m\u001b[0mquick_sort\u001b[0m\u001b[0;34m(\u001b[0m\u001b[0ma\u001b[0m\u001b[0;34m)\u001b[0m\u001b[0;34m)\u001b[0m\u001b[0;34m\u001b[0m\u001b[0m\n\u001b[0m",
      "\u001b[0;32m<ipython-input-12-5ed7efcc2d67>\u001b[0m in \u001b[0;36mquick_sort\u001b[0;34m(list6)\u001b[0m\n\u001b[1;32m      8\u001b[0m     \u001b[0;32melse\u001b[0m\u001b[0;34m:\u001b[0m\u001b[0;34m\u001b[0m\u001b[0m\n\u001b[1;32m      9\u001b[0m         \u001b[0mfirst\u001b[0m \u001b[0;34m=\u001b[0m \u001b[0mlists\u001b[0m\u001b[0;34m[\u001b[0m\u001b[0;36m0\u001b[0m\u001b[0;34m]\u001b[0m\u001b[0;34m\u001b[0m\u001b[0m\n\u001b[0;32m---> 10\u001b[0;31m         \u001b[0mleft\u001b[0m \u001b[0;34m=\u001b[0m \u001b[0mquick_sort\u001b[0m\u001b[0;34m(\u001b[0m\u001b[0;34m[\u001b[0m\u001b[0ml\u001b[0m \u001b[0;32mfor\u001b[0m \u001b[0ml\u001b[0m \u001b[0;32min\u001b[0m \u001b[0mlists\u001b[0m\u001b[0;34m[\u001b[0m\u001b[0;36m1\u001b[0m\u001b[0;34m:\u001b[0m\u001b[0;34m]\u001b[0m\u001b[0;32mif\u001b[0m \u001b[0ml\u001b[0m \u001b[0;34m<\u001b[0m \u001b[0mfirst\u001b[0m\u001b[0;34m]\u001b[0m\u001b[0;34m)\u001b[0m\u001b[0;34m\u001b[0m\u001b[0m\n\u001b[0m\u001b[1;32m     11\u001b[0m         \u001b[0mright\u001b[0m \u001b[0;34m=\u001b[0m \u001b[0mquick_sort\u001b[0m\u001b[0;34m(\u001b[0m\u001b[0;34m[\u001b[0m\u001b[0ml\u001b[0m \u001b[0;32mfor\u001b[0m \u001b[0ml\u001b[0m \u001b[0;32min\u001b[0m \u001b[0mlists\u001b[0m\u001b[0;34m[\u001b[0m\u001b[0;36m1\u001b[0m\u001b[0;34m:\u001b[0m\u001b[0;34m]\u001b[0m \u001b[0;32mif\u001b[0m \u001b[0ml\u001b[0m \u001b[0;34m>\u001b[0m \u001b[0mfirst\u001b[0m\u001b[0;34m]\u001b[0m\u001b[0;34m)\u001b[0m\u001b[0;34m\u001b[0m\u001b[0m\n\u001b[1;32m     12\u001b[0m         \u001b[0mlist1\u001b[0m \u001b[0;34m=\u001b[0m \u001b[0mleft\u001b[0m \u001b[0;34m+\u001b[0m\u001b[0;34m[\u001b[0m\u001b[0mfirst\u001b[0m\u001b[0;34m]\u001b[0m \u001b[0;34m+\u001b[0m \u001b[0mright\u001b[0m\u001b[0;34m\u001b[0m\u001b[0m\n",
      "\u001b[0;32m<ipython-input-12-5ed7efcc2d67>\u001b[0m in \u001b[0;36mquick_sort\u001b[0;34m(list6)\u001b[0m\n\u001b[1;32m      2\u001b[0m     \u001b[0mlist5\u001b[0m \u001b[0;34m=\u001b[0m \u001b[0;34m[\u001b[0m\u001b[0;34m]\u001b[0m\u001b[0;34m\u001b[0m\u001b[0m\n\u001b[1;32m      3\u001b[0m \u001b[0;31m#     for l in range(len(list6)):\u001b[0m\u001b[0;34m\u001b[0m\u001b[0;34m\u001b[0m\u001b[0m\n\u001b[0;32m----> 4\u001b[0;31m     \u001b[0mlists\u001b[0m \u001b[0;34m=\u001b[0m \u001b[0mlist6\u001b[0m\u001b[0;34m[\u001b[0m\u001b[0;36m0\u001b[0m\u001b[0;34m]\u001b[0m\u001b[0;34m\u001b[0m\u001b[0m\n\u001b[0m\u001b[1;32m      5\u001b[0m     \u001b[0mprint\u001b[0m\u001b[0;34m(\u001b[0m\u001b[0mlists\u001b[0m\u001b[0;34m)\u001b[0m\u001b[0;34m\u001b[0m\u001b[0m\n\u001b[1;32m      6\u001b[0m     \u001b[0;32mif\u001b[0m \u001b[0mlists\u001b[0m \u001b[0;34m==\u001b[0m \u001b[0;34m[\u001b[0m\u001b[0;34m]\u001b[0m\u001b[0;34m:\u001b[0m\u001b[0;34m\u001b[0m\u001b[0m\n",
      "\u001b[0;31mIndexError\u001b[0m: list index out of range"
     ]
    }
   ],
   "source": [
    "def quick_sort(list6):\n",
    "    list5 = []\n",
    "#     for l in range(len(list6)): \n",
    "    lists = list6[0]\n",
    "    print(lists)\n",
    "    if lists == []:\n",
    "        return []\n",
    "    else:\n",
    "        first = lists[0]\n",
    "        left = quick_sort([l for l in lists[1:]if l < first])\n",
    "        right = quick_sort([l for l in lists[1:] if l > first])\n",
    "        list1 = left +[first] + right\n",
    "    for i in list1:\n",
    "        list5.append(str(list1))\n",
    "    return list5\n",
    "a = [[1,7,3]]\n",
    "print(quick_sort(a))"
   ]
  },
  {
   "cell_type": "code",
   "execution_count": 4,
   "metadata": {},
   "outputs": [],
   "source": [
    "from clipper_admin.deployers import python as python_deployer"
   ]
  },
  {
   "cell_type": "code",
   "execution_count": 5,
   "metadata": {},
   "outputs": [
    {
     "name": "stderr",
     "output_type": "stream",
     "text": [
      "20-03-10:05:16:38 INFO     [deployer_utils.py:41] Saving function to /tmp/tmp_ax_i3vvclipper\n",
      "20-03-10:05:16:38 INFO     [deployer_utils.py:51] Serialized and supplied predict function\n",
      "20-03-10:05:16:38 INFO     [python.py:192] Python closure saved\n",
      "20-03-10:05:16:38 INFO     [python.py:206] Using Python 3.6 base image\n",
      "20-03-10:05:16:38 INFO     [clipper_admin.py:534] [default-cluster] Building model Docker image with model data from /tmp/tmp_ax_i3vvclipper\n",
      "20-03-10:05:16:38 INFO     [clipper_admin.py:539] [default-cluster] Step 1/2 : FROM clipper/python36-closure-container:0.4.1\n",
      "20-03-10:05:16:38 INFO     [clipper_admin.py:539] [default-cluster]  ---> e5b9dc250c05\n",
      "20-03-10:05:16:38 INFO     [clipper_admin.py:539] [default-cluster] Step 2/2 : COPY /tmp/tmp_ax_i3vvclipper /model/\n",
      "20-03-10:05:16:38 INFO     [clipper_admin.py:539] [default-cluster]  ---> f1f806202ae8\n",
      "20-03-10:05:16:38 INFO     [clipper_admin.py:539] [default-cluster] Successfully built f1f806202ae8\n",
      "20-03-10:05:16:38 INFO     [clipper_admin.py:539] [default-cluster] Successfully tagged default-cluster-sum-model:1\n",
      "20-03-10:05:16:38 INFO     [clipper_admin.py:541] [default-cluster] Pushing model Docker image to default-cluster-sum-model:1\n",
      "20-03-10:05:16:49 INFO     [docker_container_manager.py:409] [default-cluster] Found 0 replicas for sum-model:1. Adding 1\n",
      "20-03-10:05:16:50 INFO     [clipper_admin.py:724] [default-cluster] Successfully registered model sum-model:1\n",
      "20-03-10:05:16:50 INFO     [clipper_admin.py:642] [default-cluster] Done deploying model sum-model:1.\n"
     ]
    }
   ],
   "source": [
    "python_deployer.deploy_python_closure(clipper_conn, name=\"sum-model\", version=1, input_type=\"int\", func=insert_sort)"
   ]
  },
  {
   "cell_type": "code",
   "execution_count": 6,
   "metadata": {},
   "outputs": [
    {
     "name": "stderr",
     "output_type": "stream",
     "text": [
      "20-03-10:05:21:47 INFO     [clipper_admin.py:236] [default-cluster] Application hello-world was successfully registered\n"
     ]
    }
   ],
   "source": [
    "clipper_conn.register_application(name=\"hello-world\", input_type=\"int\", default_output=\"-1.0\", slo_micros=100000)"
   ]
  },
  {
   "cell_type": "code",
   "execution_count": 7,
   "metadata": {},
   "outputs": [
    {
     "name": "stderr",
     "output_type": "stream",
     "text": [
      "20-03-10:05:22:30 INFO     [clipper_admin.py:303] [default-cluster] Model sum-model is now linked to application hello-world\n"
     ]
    }
   ],
   "source": [
    "clipper_conn.link_model_to_app(app_name=\"hello-world\", model_name=\"sum-model\")"
   ]
  },
  {
   "cell_type": "code",
   "execution_count": 47,
   "metadata": {},
   "outputs": [
    {
     "data": {
      "text/plain": [
       "['hello-world']"
      ]
     },
     "execution_count": 47,
     "metadata": {},
     "output_type": "execute_result"
    }
   ],
   "source": [
    "clipper_conn.get_all_apps()"
   ]
  },
  {
   "cell_type": "code",
   "execution_count": 9,
   "metadata": {},
   "outputs": [
    {
     "data": {
      "text/plain": [
       "['sum-model:1']"
      ]
     },
     "execution_count": 9,
     "metadata": {},
     "output_type": "execute_result"
    }
   ],
   "source": [
    "clipper_conn.get_all_models()"
   ]
  },
  {
   "cell_type": "code",
   "execution_count": 7,
   "metadata": {},
   "outputs": [
    {
     "data": {
      "text/plain": [
       "{'query_id': 0, 'output': '[2 3 9]', 'default': False}"
      ]
     },
     "execution_count": 7,
     "metadata": {},
     "output_type": "execute_result"
    }
   ],
   "source": [
    "import requests, json, numpy as np\n",
    "headers = {\"Content-type\": \"application/json\"}\n",
    "requests.post(\"http://localhost:1337/hello-world/predict\", headers=headers, data=json.dumps({\"input\": [9,2,3]})).json()"
   ]
  },
  {
   "cell_type": "code",
   "execution_count": 8,
   "metadata": {},
   "outputs": [],
   "source": [
    "def predict(addr, x, batch=False):\n",
    "    url = \"http://%s/hello-world/predict\" % addr\n",
    "\n",
    "    if batch:\n",
    "        req_json = json.dumps({'input_batch': x})\n",
    "    else:\n",
    "        req_json = json.dumps({'input': list(x)})\n",
    "\n",
    "    headers = {'Content-type': 'application/json'}\n",
    "    start = datetime.now()\n",
    "    r = requests.post(url, headers=headers, data=req_json)\n",
    "    end = datetime.now()\n",
    "    latency = (end - start).total_seconds() * 1000.0\n",
    "    print(\"'%s', %f ms\" % (r.text, latency))"
   ]
  },
  {
   "cell_type": "code",
   "execution_count": 9,
   "metadata": {},
   "outputs": [
    {
     "name": "stdout",
     "output_type": "stream",
     "text": [
      "'{\"query_id\":0,\"output\":\"[1 2 8]\",\"default\":false}', 11.235000 ms\n"
     ]
    }
   ],
   "source": [
    "import json ,requests\n",
    "from datetime import datetime\n",
    "addr = \"127.0.0.1:1337\"\n",
    "# x = '{\"input\": [7,2,3]}'\n",
    "x = [1,8,2]\n",
    "predict(addr,x,batch=False)"
   ]
  },
  {
   "cell_type": "code",
   "execution_count": null,
   "metadata": {},
   "outputs": [],
   "source": [
    "clipper_conn.delete_application(name=\"hello-world\")"
   ]
  },
  {
   "cell_type": "code",
   "execution_count": null,
   "metadata": {},
   "outputs": [],
   "source": [
    "clipper_conn.unlink_model_from_app(app_name=\"hello-world\", model_name=\"sum-model\")"
   ]
  },
  {
   "cell_type": "code",
   "execution_count": 10,
   "metadata": {},
   "outputs": [
    {
     "name": "stderr",
     "output_type": "stream",
     "text": [
      "20-03-10:06:00:20 INFO     [clipper_admin.py:1424] [default-cluster] Stopped all Clipper cluster and all model containers\n"
     ]
    }
   ],
   "source": [
    "clipper_conn.stop_all()"
   ]
  },
  {
   "cell_type": "markdown",
   "metadata": {},
   "source": [
    "1，快排实现中用到递归 ，但是取元素会报超出索引 。暂没想到 好方法实现\n",
    "2，输入batch可以为1，但是输入必须为双层数据。输出也是"
   ]
  }
 ],
 "metadata": {
  "kernelspec": {
   "display_name": "Python 3",
   "language": "python",
   "name": "python3"
  },
  "language_info": {
   "codemirror_mode": {
    "name": "ipython",
    "version": 3
   },
   "file_extension": ".py",
   "mimetype": "text/x-python",
   "name": "python",
   "nbconvert_exporter": "python",
   "pygments_lexer": "ipython3",
   "version": "3.6.1"
  }
 },
 "nbformat": 4,
 "nbformat_minor": 4
}
