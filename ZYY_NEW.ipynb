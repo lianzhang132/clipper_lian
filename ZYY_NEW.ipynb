{
 "cells": [
  {
   "cell_type": "code",
   "execution_count": 1,
   "metadata": {},
   "outputs": [
    {
     "name": "stderr",
     "output_type": "stream",
     "text": [
      "20-03-04:02:53:32 INFO     [docker_container_manager.py:184] [default-cluster] Starting managed Redis instance in Docker\n",
      "20-03-04:02:53:37 INFO     [docker_container_manager.py:276] [default-cluster] Metric Configuration Saved at /tmp/tmp_4x053pc.yml\n",
      "20-03-04:02:53:38 INFO     [clipper_admin.py:162] [default-cluster] Clipper is running\n"
     ]
    }
   ],
   "source": [
    "from clipper_admin import ClipperConnection, DockerContainerManager\n",
    "clipper_conn = ClipperConnection(DockerContainerManager())\n",
    "clipper_conn.start_clipper()"
   ]
  },
  {
   "cell_type": "code",
   "execution_count": null,
   "metadata": {},
   "outputs": [],
   "source": [
    "# example from github\n",
    "def feature_sum(xs):    \n",
    "    return [str(sum(x)) for x in xs]\n",
    "#a = [[1., 2., 3.]]\n",
    "#b = feature_sum(a)\n",
    "#print(b)#['6.0']"
   ]
  },
  {
   "cell_type": "code",
   "execution_count": 2,
   "metadata": {},
   "outputs": [],
   "source": [
    "def bubble_sort(lists):\n",
    "    res = list()\n",
    "    for l in range(len(lists)):    \n",
    "        alist = lists[l]\n",
    "        for j in range(len(alist)-1,0,-1):\n",
    "            for i in range(j):\n",
    "                if alist[i] > alist[i+1]:\n",
    "                    alist[i], alist[i+1] = alist[i+1], alist[i]\n",
    "        res.append(str(alist))\n",
    "    return res\n",
    "# a = [[1,7,3],]\n",
    "# b = bubble_sort(a)\n",
    "# print(b) # ['[1, 3, 7]']"
   ]
  },
  {
   "cell_type": "code",
   "execution_count": 3,
   "metadata": {},
   "outputs": [],
   "source": [
    "from clipper_admin.deployers import python as python_deployer"
   ]
  },
  {
   "cell_type": "code",
   "execution_count": 5,
   "metadata": {},
   "outputs": [
    {
     "name": "stderr",
     "output_type": "stream",
     "text": [
      "20-03-04:02:53:58 INFO     [deployer_utils.py:41] Saving function to /tmp/tmpvqgyyka9clipper\n",
      "20-03-04:02:53:58 INFO     [deployer_utils.py:51] Serialized and supplied predict function\n",
      "20-03-04:02:53:58 INFO     [python.py:192] Python closure saved\n",
      "20-03-04:02:53:58 INFO     [python.py:206] Using Python 3.6 base image\n",
      "20-03-04:02:53:58 INFO     [clipper_admin.py:534] [default-cluster] Building model Docker image with model data from /tmp/tmpvqgyyka9clipper\n",
      "20-03-04:02:53:58 INFO     [clipper_admin.py:539] [default-cluster] Step 1/2 : FROM clipper/python36-closure-container:0.4.1\n",
      "20-03-04:02:53:58 INFO     [clipper_admin.py:539] [default-cluster]  ---> e5b9dc250c05\n",
      "20-03-04:02:53:58 INFO     [clipper_admin.py:539] [default-cluster] Step 2/2 : COPY /tmp/tmpvqgyyka9clipper /model/\n",
      "20-03-04:02:53:58 INFO     [clipper_admin.py:539] [default-cluster]  ---> 5c162455006e\n",
      "20-03-04:02:53:58 INFO     [clipper_admin.py:539] [default-cluster] Successfully built 5c162455006e\n",
      "20-03-04:02:53:58 INFO     [clipper_admin.py:539] [default-cluster] Successfully tagged default-cluster-sum-model:1\n",
      "20-03-04:02:53:58 INFO     [clipper_admin.py:541] [default-cluster] Pushing model Docker image to default-cluster-sum-model:1\n",
      "20-03-04:02:54:07 INFO     [docker_container_manager.py:409] [default-cluster] Found 0 replicas for sum-model:1. Adding 1\n",
      "20-03-04:02:54:08 INFO     [clipper_admin.py:724] [default-cluster] Successfully registered model sum-model:1\n",
      "20-03-04:02:54:08 INFO     [clipper_admin.py:642] [default-cluster] Done deploying model sum-model:1.\n"
     ]
    }
   ],
   "source": [
    "python_deployer.deploy_python_closure(clipper_conn, name=\"sum-model\", version=1, input_type=\"int\", func=bubble_sort)"
   ]
  },
  {
   "cell_type": "code",
   "execution_count": 6,
   "metadata": {},
   "outputs": [
    {
     "name": "stderr",
     "output_type": "stream",
     "text": [
      "20-03-04:02:54:14 INFO     [clipper_admin.py:236] [default-cluster] Application hello-world was successfully registered\n"
     ]
    }
   ],
   "source": [
    "clipper_conn.register_application(name=\"hello-world\", input_type=\"int\", default_output=\"-1.0\", slo_micros=100000)"
   ]
  },
  {
   "cell_type": "code",
   "execution_count": 7,
   "metadata": {},
   "outputs": [
    {
     "name": "stderr",
     "output_type": "stream",
     "text": [
      "20-03-04:02:54:15 INFO     [clipper_admin.py:303] [default-cluster] Model sum-model is now linked to application hello-world\n"
     ]
    }
   ],
   "source": [
    "clipper_conn.link_model_to_app(app_name=\"hello-world\", model_name=\"sum-model\")"
   ]
  },
  {
   "cell_type": "code",
   "execution_count": 8,
   "metadata": {},
   "outputs": [
    {
     "data": {
      "text/plain": [
       "['hello-world']"
      ]
     },
     "execution_count": 8,
     "metadata": {},
     "output_type": "execute_result"
    }
   ],
   "source": [
    "clipper_conn.get_all_apps()"
   ]
  },
  {
   "cell_type": "code",
   "execution_count": 9,
   "metadata": {},
   "outputs": [
    {
     "data": {
      "text/plain": [
       "['sum-model:1']"
      ]
     },
     "execution_count": 9,
     "metadata": {},
     "output_type": "execute_result"
    }
   ],
   "source": [
    "clipper_conn.get_all_models()"
   ]
  },
  {
   "cell_type": "code",
   "execution_count": 11,
   "metadata": {},
   "outputs": [
    {
     "data": {
      "text/plain": [
       "{'query_id': 1, 'output': '[2 3 7]', 'default': False}"
      ]
     },
     "execution_count": 11,
     "metadata": {},
     "output_type": "execute_result"
    }
   ],
   "source": [
    "import requests, json, numpy as np\n",
    "headers = {\"Content-type\": \"application/json\"}\n",
    "requests.post(\"http://localhost:1337/hello-world/predict\", headers=headers, data=json.dumps({\"input\": [7,2,3]})).json()"
   ]
  },
  {
   "cell_type": "code",
   "execution_count": null,
   "metadata": {},
   "outputs": [],
   "source": [
    "clipper_conn.delete_application(name=\"hello-world\")"
   ]
  },
  {
   "cell_type": "code",
   "execution_count": null,
   "metadata": {},
   "outputs": [],
   "source": [
    "clipper_conn.unlink_model_from_app(app_name=\"hello-world\", model_name=\"sum-model\")"
   ]
  },
  {
   "cell_type": "code",
   "execution_count": null,
   "metadata": {},
   "outputs": [],
   "source": [
    "clipper_conn.stop_all()"
   ]
  },
  {
   "cell_type": "code",
   "execution_count": null,
   "metadata": {},
   "outputs": [],
   "source": []
  }
 ],
 "metadata": {
  "kernelspec": {
   "display_name": "Python 3",
   "language": "python",
   "name": "python3"
  },
  "language_info": {
   "codemirror_mode": {
    "name": "ipython",
    "version": 3
   },
   "file_extension": ".py",
   "mimetype": "text/x-python",
   "name": "python",
   "nbconvert_exporter": "python",
   "pygments_lexer": "ipython3",
   "version": "3.6.1"
  }
 },
 "nbformat": 4,
 "nbformat_minor": 4
}
