{
 "cells": [
  {
   "cell_type": "code",
   "execution_count": 1,
   "metadata": {},
   "outputs": [
    {
     "data": {
      "image/png": "[encoded data removed]",
      "text/plain": [
       "<Figure size 432x288 with 1 Axes>"
      ]
     },
     "metadata": {
      "needs_background": "light"
     },
     "output_type": "display_data"
    }
   ],
   "source": [
    "import tensorflow as tf\n",
    "import numpy as np  # Python的一种开源的数值计算扩展\n",
    "import matplotlib.pyplot as plt  # Python的一种绘图库\n",
    "\n",
    "np.random.seed(5)  # 设置产生伪随机数的类型\n",
    "sx = np.linspace(-1, 1, 100)  # 在-1到1之间产生100个等差数列作为图像的横坐标\n",
    "# 根据y=2*x+1+噪声产生纵坐标\n",
    "# randn(100)表示从100个样本的标准正态分布中返回一个样本值，0.4为数据抖动幅度\n",
    "sy = 2 * sx + 1.0 + np.random.randn(100) * 0.4\n",
    "\n",
    "plt.scatter(sx, sy)  # 生成散点图\n",
    "plt.plot(sx, 2 * sx + 1, color='red', linewidth=3)  # 生成直线y=2x+1\n",
    "\n",
    "# plt.show()\n",
    "\n",
    "# 定义函数模型，y=kx+b\n",
    "# def model(x, k, b):\n",
    "#     print(\"==============\",x.dtype,k.dtype)\n",
    "#     x = tf.cast(x,dtype=tf.float32)\n",
    "#     return tf.multiply(k, x) + b\n",
    "\n",
    "\n",
    "# 定义模型中的参数变量，并为其赋初值\n",
    "k = tf.Variable(1.0, name='k')\n",
    "b = tf.Variable(0, name='b',dtype=tf.float32)\n",
    "\n",
    "# 定义训练数据的占位符，x为特征值，y为标签\n",
    "x = tf.placeholder(dtype=tf.float32,name='x')\n",
    "y = tf.placeholder(dtype=tf.float32,name='y')\n",
    "# 通过模型得出特征值x对应的预测值yp\n",
    "yp = tf.add(tf.multiply(x, k), b, name='yp')\n",
    "# 训练模型，设置训练参数(迭代次数、学习率)\n",
    "train_epoch = 10\n",
    "rate = 0.05\n",
    "# 定义均方差为损失函数\n",
    "loss = tf.reduce_mean(tf.square(y - yp))\n",
    "# 定义梯度下降优化器，并传入参数学习率和损失函数\n",
    "optimizer = tf.train.GradientDescentOptimizer(rate).minimize(loss)\n",
    "\n",
    "saver = tf.train.Saver()\n",
    "\n",
    "\n",
    "ss = tf.Session()\n",
    "init = tf.global_variables_initializer()\n",
    "ss.run(init)\n",
    "\n",
    "# 进行多轮迭代训练，每轮将样本值逐个输入模型，进行梯度下降优化操作得出参数，绘制模型曲线\n",
    "for _ in range(train_epoch):\n",
    "    for x1, y1 in zip(sx, sy):\n",
    "        ss.run([optimizer, loss], feed_dict={x: x1, y: y1})\n",
    "    tmp_k = k.eval(session=ss)\n",
    "    tmp_b = b.eval(session=ss)\n",
    "    plt.plot(sx, tmp_k * sx + tmp_b,color='black')\n",
    "    # Save the variables to disk.\n",
    "    save_path = saver.save(ss, \"/tmp/tf4/kx_lines.ckpt\")\n",
    "\n",
    "ss.close()\n",
    "plt.show()"
   ]
  },
  {
   "cell_type": "code",
   "execution_count": 2,
   "metadata": {},
   "outputs": [
    {
     "name": "stdout",
     "output_type": "stream",
     "text": [
      "INFO:tensorflow:Restoring parameters from /tmp/tf4/kx_lines.ckpt\n",
      "Model restored.\n",
      "k : 1.9822965\n",
      "b : 1.0420128\n"
     ]
    }
   ],
   "source": [
    "tf.reset_default_graph()\n",
    "\n",
    "# def model(x, k, b):\n",
    "#     print(\"==============\",x.dtype,k.dtype)\n",
    "#     x = tf.cast(x,dtype=tf.float32)\n",
    "#     return tf.multiply(k, x) + b\n",
    "\n",
    "\n",
    "# 定义模型中的参数变量，并为其赋初值\n",
    "k = tf.Variable(1.0, name='k')\n",
    "b = tf.Variable(0, name='b',dtype=tf.float32)\n",
    "\n",
    "\n",
    "# 定义训练数据的占位符，x为特征值，y为标签\n",
    "x = tf.placeholder(dtype=tf.float32,name='x')\n",
    "# yp = model(x, k, b)\n",
    "# 训练模型，设置训练参数(迭代次数、学习率)\n",
    "# train_epoch = 10\n",
    "# rate = 0.05\n",
    "# 定义均方差为损失函数\n",
    "# loss = tf.reduce_mean(tf.square(y - yp))\n",
    "# 定义梯度下降优化器，并传入参数学习率和损失函数\n",
    "# optimizer = tf.train.GradientDescentOptimizer(rate).minimize(loss)\n",
    "yp = tf.add(tf.multiply(x, k), b, name='yp')\n",
    "sy = 2 * sx + 1.0 + np.random.randn(100) * 0.4\n",
    "saver = tf.train.Saver()\n",
    "sess = tf.Session()\n",
    "\n",
    "# Restore variables from disk.\n",
    "saver.restore(sess, \"/tmp/tf4/kx_lines.ckpt\")\n",
    "print(\"Model restored.\")\n",
    "print(\"k : %s\" % k.eval(session=sess))\n",
    "print(\"b : %s\" % b.eval(session=sess))"
   ]
  },
  {
   "cell_type": "code",
   "execution_count": 7,
   "metadata": {},
   "outputs": [
    {
     "data": {
      "text/plain": [
       "<tensorflow.python.client.session.Session at 0x7fc0fc041438>"
      ]
     },
     "execution_count": 7,
     "metadata": {},
     "output_type": "execute_result"
    }
   ],
   "source": [
    "sess\n"
   ]
  },
  {
   "cell_type": "code",
   "execution_count": 8,
   "metadata": {},
   "outputs": [],
   "source": [
    "def predict4(sess, inputs):\n",
    "    preds = sess.run(\"yp:0\" ,feed_dict={\"x:0\": inputs}) \n",
    "    # `X` is used, it must be defined in the model with that name explicitly!\n",
    "    return [str(p) for p in preds]"
   ]
  },
  {
   "cell_type": "code",
   "execution_count": 9,
   "metadata": {},
   "outputs": [],
   "source": [
    "from clipper_admin import ClipperConnection, DockerContainerManager\n",
    "from clipper_admin.deployers.tensorflow import deploy_tensorflow_model\n",
    "clipper_conn = ClipperConnection(DockerContainerManager())"
   ]
  },
  {
   "cell_type": "code",
   "execution_count": 10,
   "metadata": {},
   "outputs": [
    {
     "name": "stderr",
     "output_type": "stream",
     "text": [
      "20-03-18:05:15:17 INFO     [docker_container_manager.py:184] [default-cluster] Starting managed Redis instance in Docker\n",
      "20-03-18:05:15:22 INFO     [docker_container_manager.py:276] [default-cluster] Metric Configuration Saved at /tmp/tmp111ev1w5.yml\n",
      "20-03-18:05:15:23 INFO     [clipper_admin.py:162] [default-cluster] Clipper is running\n"
     ]
    }
   ],
   "source": [
    "clipper_conn.start_clipper()"
   ]
  },
  {
   "cell_type": "code",
   "execution_count": 11,
   "metadata": {},
   "outputs": [
    {
     "name": "stderr",
     "output_type": "stream",
     "text": [
      "20-03-18:05:15:37 INFO     [clipper_admin.py:172] [default-cluster] Successfully connected to Clipper cluster at localhost:1337\n"
     ]
    }
   ],
   "source": [
    "clipper_conn.connect()"
   ]
  },
  {
   "cell_type": "code",
   "execution_count": 12,
   "metadata": {},
   "outputs": [
    {
     "name": "stderr",
     "output_type": "stream",
     "text": [
      "20-03-18:05:16:05 INFO     [clipper_admin.py:236] [default-cluster] Application tf-app40 was successfully registered\n"
     ]
    }
   ],
   "source": [
    "clipper_conn.register_application(\n",
    "    name=\"tf-app40\", input_type=\"doubles\", default_output=\"-1.0\", slo_micros=100000)"
   ]
  },
  {
   "cell_type": "code",
   "execution_count": 13,
   "metadata": {},
   "outputs": [
    {
     "name": "stderr",
     "output_type": "stream",
     "text": [
      "20-03-18:05:17:02 INFO     [deployer_utils.py:41] Saving function to /tmp/tmp5noh4o_3clipper\n",
      "20-03-18:05:17:02 INFO     [deployer_utils.py:51] Serialized and supplied predict function\n",
      "20-03-18:05:17:02 INFO     [tensorflow.py:264] TensorFlow model copied to: tfmodel \n",
      "20-03-18:05:17:02 INFO     [tensorflow.py:277] Using Python 3.6 base image\n",
      "20-03-18:05:17:02 INFO     [clipper_admin.py:534] [default-cluster] Building model Docker image with model data from /tmp/tmp5noh4o_3clipper\n",
      "20-03-18:05:17:03 INFO     [clipper_admin.py:539] [default-cluster] Step 1/2 : FROM clipper/tf36-container:0.4.1\n",
      "20-03-18:05:17:03 INFO     [clipper_admin.py:539] [default-cluster]  ---> 3db42af800ff\n",
      "20-03-18:05:17:03 INFO     [clipper_admin.py:539] [default-cluster] Step 2/2 : COPY /tmp/tmp5noh4o_3clipper /model/\n",
      "20-03-18:05:17:03 INFO     [clipper_admin.py:539] [default-cluster]  ---> 8982e29c42a2\n",
      "20-03-18:05:17:03 INFO     [clipper_admin.py:539] [default-cluster] Successfully built 8982e29c42a2\n",
      "20-03-18:05:17:03 INFO     [clipper_admin.py:539] [default-cluster] Successfully tagged default-cluster-tf-mod4:1\n",
      "20-03-18:05:17:03 INFO     [clipper_admin.py:541] [default-cluster] Pushing model Docker image to default-cluster-tf-mod4:1\n",
      "20-03-18:05:17:20 INFO     [docker_container_manager.py:409] [default-cluster] Found 0 replicas for tf-mod4:1. Adding 1\n",
      "20-03-18:05:17:21 INFO     [clipper_admin.py:724] [default-cluster] Successfully registered model tf-mod4:1\n",
      "20-03-18:05:17:21 INFO     [clipper_admin.py:642] [default-cluster] Done deploying model tf-mod4:1.\n"
     ]
    }
   ],
   "source": [
    "deploy_tensorflow_model(\n",
    "    clipper_conn,\n",
    "    name=\"tf-mod4\",\n",
    "    version=1,\n",
    "    input_type=\"doubles\",\n",
    "    func=predict4,\n",
    "    tf_sess_or_saved_model_path=\"/tmp/tf4/\") # path to saved model files is used,"
   ]
  },
  {
   "cell_type": "code",
   "execution_count": 15,
   "metadata": {},
   "outputs": [
    {
     "name": "stderr",
     "output_type": "stream",
     "text": [
      "20-03-18:05:17:46 INFO     [clipper_admin.py:303] [default-cluster] Model tf-mod4 is now linked to application tf-app40\n"
     ]
    }
   ],
   "source": [
    "clipper_conn.link_model_to_app(\n",
    "    app_name=\"tf-app40\",\n",
    "    model_name=\"tf-mod4\")"
   ]
  },
  {
   "cell_type": "code",
   "execution_count": 16,
   "metadata": {},
   "outputs": [],
   "source": [
    "query_address = clipper_conn.get_query_addr()"
   ]
  },
  {
   "cell_type": "code",
   "execution_count": 17,
   "metadata": {},
   "outputs": [
    {
     "name": "stdout",
     "output_type": "stream",
     "text": [
      "localhost:1337\n"
     ]
    }
   ],
   "source": [
    "print(query_address)"
   ]
  },
  {
   "cell_type": "code",
   "execution_count": 18,
   "metadata": {},
   "outputs": [
    {
     "data": {
      "text/plain": [
       "{'query_id': 0, 'output': '[2.62785   3.4207687]', 'default': False}"
      ]
     },
     "execution_count": 18,
     "metadata": {},
     "output_type": "execute_result"
    }
   ],
   "source": [
    "import requests, json, numpy as np\n",
    "headers = {\"Content-type\": \"application/json\"}\n",
    "requests.post(\"http://\"+query_address+\"/tf-app40/predict\", headers=headers, data=json.dumps({\n",
    "    \"input\": [.8,1.2]})).json()"
   ]
  },
  {
   "cell_type": "code",
   "execution_count": 1,
   "metadata": {},
   "outputs": [
    {
     "ename": "NameError",
     "evalue": "name 'clipper_conn' is not defined",
     "output_type": "error",
     "traceback": [
      "\u001b[0;31m---------------------------------------------------------------------------\u001b[0m",
      "\u001b[0;31mNameError\u001b[0m                                 Traceback (most recent call last)",
      "\u001b[0;32m<ipython-input-1-da695a22dfbd>\u001b[0m in \u001b[0;36m<module>\u001b[0;34m\u001b[0m\n\u001b[0;32m----> 1\u001b[0;31m \u001b[0mclipper_conn\u001b[0m\u001b[0;34m.\u001b[0m\u001b[0mstop_all\u001b[0m\u001b[0;34m(\u001b[0m\u001b[0;34m)\u001b[0m\u001b[0;34m\u001b[0m\u001b[0m\n\u001b[0m",
      "\u001b[0;31mNameError\u001b[0m: name 'clipper_conn' is not defined"
     ]
    }
   ],
   "source": [
    "clipper_conn.stop_all()"
   ]
  },
  {
   "cell_type": "code",
   "execution_count": null,
   "metadata": {},
   "outputs": [],
   "source": []
  }
 ],
 "metadata": {
  "kernelspec": {
   "display_name": "Python 3",
   "language": "python",
   "name": "python3"
  },
  "language_info": {
   "codemirror_mode": {
    "name": "ipython",
    "version": 3
   },
   "file_extension": ".py",
   "mimetype": "text/x-python",
   "name": "python",
   "nbconvert_exporter": "python",
   "pygments_lexer": "ipython3",
   "version": "3.6.1"
  }
 },
 "nbformat": 4,
 "nbformat_minor": 4
}
