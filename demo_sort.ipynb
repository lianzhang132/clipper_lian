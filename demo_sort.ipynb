{
 "cells": [
  {
   "cell_type": "code",
   "execution_count": 1,
   "metadata": {},
   "outputs": [
    {
     "name": "stderr",
     "output_type": "stream",
     "text": [
      "20-03-09:03:28:27 INFO     [docker_container_manager.py:184] [default-cluster] Starting managed Redis instance in Docker\n",
      "20-03-09:03:28:31 INFO     [docker_container_manager.py:276] [default-cluster] Metric Configuration Saved at /tmp/tmpx53c2__4.yml\n",
      "20-03-09:03:28:32 INFO     [clipper_admin.py:162] [default-cluster] Clipper is running\n"
     ]
    }
   ],
   "source": [
    "from clipper_admin import ClipperConnection, DockerContainerManager\n",
    "clipper_conn = ClipperConnection(DockerContainerManager())\n",
    "clipper_conn.start_clipper()"
   ]
  },
  {
   "cell_type": "code",
   "execution_count": 2,
   "metadata": {},
   "outputs": [],
   "source": [
    "#插入排序\n",
    "def insert_sort(lists):\n",
    "#     list = lists[0]\n",
    "    list1 = []\n",
    "    for l in range(len(lists)):    \n",
    "        list = lists[l]\n",
    "        length = len(list)\n",
    "        for i in range(1,length):\n",
    "            for j in range(i):\n",
    "                if list[j] > list[j+1]:\n",
    "                    list[j],list[j+1] = list[j+1],list[j]\n",
    "        list1.append(str(list))\n",
    "    return list1"
   ]
  },
  {
   "cell_type": "code",
   "execution_count": 3,
   "metadata": {},
   "outputs": [],
   "source": [
    "from clipper_admin.deployers import python as python_deployer"
   ]
  },
  {
   "cell_type": "code",
   "execution_count": 4,
   "metadata": {},
   "outputs": [
    {
     "name": "stderr",
     "output_type": "stream",
     "text": [
      "20-03-09:03:29:46 INFO     [deployer_utils.py:41] Saving function to /tmp/tmp30htnxzsclipper\n",
      "20-03-09:03:29:46 INFO     [deployer_utils.py:51] Serialized and supplied predict function\n",
      "20-03-09:03:29:46 INFO     [python.py:192] Python closure saved\n",
      "20-03-09:03:29:46 INFO     [python.py:206] Using Python 3.6 base image\n",
      "20-03-09:03:29:46 INFO     [clipper_admin.py:534] [default-cluster] Building model Docker image with model data from /tmp/tmp30htnxzsclipper\n",
      "20-03-09:03:29:47 INFO     [clipper_admin.py:539] [default-cluster] Step 1/2 : FROM clipper/python36-closure-container:0.4.1\n",
      "20-03-09:03:29:47 INFO     [clipper_admin.py:539] [default-cluster]  ---> e5b9dc250c05\n",
      "20-03-09:03:29:47 INFO     [clipper_admin.py:539] [default-cluster] Step 2/2 : COPY /tmp/tmp30htnxzsclipper /model/\n",
      "20-03-09:03:29:47 INFO     [clipper_admin.py:539] [default-cluster]  ---> 8bc597d4bf33\n",
      "20-03-09:03:29:47 INFO     [clipper_admin.py:539] [default-cluster] Successfully built 8bc597d4bf33\n",
      "20-03-09:03:29:47 INFO     [clipper_admin.py:539] [default-cluster] Successfully tagged default-cluster-insert-model:1\n",
      "20-03-09:03:29:47 INFO     [clipper_admin.py:541] [default-cluster] Pushing model Docker image to default-cluster-insert-model:1\n",
      "20-03-09:03:30:12 INFO     [docker_container_manager.py:409] [default-cluster] Found 0 replicas for insert-model:1. Adding 1\n",
      "20-03-09:03:30:13 INFO     [clipper_admin.py:724] [default-cluster] Successfully registered model insert-model:1\n",
      "20-03-09:03:30:13 INFO     [clipper_admin.py:642] [default-cluster] Done deploying model insert-model:1.\n"
     ]
    }
   ],
   "source": [
    "python_deployer.deploy_python_closure(clipper_conn, name=\"insert-model\", version=1, input_type=\"int\", func=insert_sort)"
   ]
  },
  {
   "cell_type": "code",
   "execution_count": 5,
   "metadata": {},
   "outputs": [
    {
     "name": "stderr",
     "output_type": "stream",
     "text": [
      "20-03-09:03:33:55 INFO     [clipper_admin.py:236] [default-cluster] Application hello-world was successfully registered\n"
     ]
    }
   ],
   "source": [
    "clipper_conn.register_application(name=\"hello-world\", input_type=\"int\", default_output=\"-1.0\", slo_micros=100000)"
   ]
  },
  {
   "cell_type": "code",
   "execution_count": 6,
   "metadata": {},
   "outputs": [
    {
     "name": "stderr",
     "output_type": "stream",
     "text": [
      "20-03-09:03:35:42 INFO     [clipper_admin.py:303] [default-cluster] Model insert-model is now linked to application hello-world\n"
     ]
    }
   ],
   "source": [
    "clipper_conn.link_model_to_app(app_name=\"hello-world\", model_name=\"insert-model\")"
   ]
  },
  {
   "cell_type": "code",
   "execution_count": 7,
   "metadata": {},
   "outputs": [
    {
     "data": {
      "text/plain": [
       "['hello-world']"
      ]
     },
     "execution_count": 7,
     "metadata": {},
     "output_type": "execute_result"
    }
   ],
   "source": [
    "clipper_conn.get_all_apps()"
   ]
  },
  {
   "cell_type": "code",
   "execution_count": 8,
   "metadata": {},
   "outputs": [],
   "source": [
    "def predict(addr, x, batch=False):\n",
    "    url = \"http://%s/hello-world/predict\" % addr\n",
    "\n",
    "    if batch:\n",
    "        req_json = json.dumps({'input_batch': x})\n",
    "    else:\n",
    "        req_json = json.dumps({'input': list(x)})\n",
    "\n",
    "    headers = {'Content-type': 'application/json'}\n",
    "    start = datetime.now()\n",
    "    r = requests.post(url, headers=headers, data=req_json)\n",
    "    end = datetime.now()\n",
    "    latency = (end - start).total_seconds() * 1000.0\n",
    "    print(\"'%s', %f ms\" % (r.text, latency))"
   ]
  },
  {
   "cell_type": "code",
   "execution_count": 9,
   "metadata": {},
   "outputs": [
    {
     "name": "stdout",
     "output_type": "stream",
     "text": [
      "'{\"query_id\":0,\"output\":\"[1 2 8]\",\"default\":false}', 11.275000 ms\n"
     ]
    }
   ],
   "source": [
    "import json ,requests\n",
    "from datetime import datetime\n",
    "addr = \"127.0.0.1:1337\"\n",
    "# x = '{\"input\": [7,2,3]}'\n",
    "x = [1,8,2]\n",
    "predict(addr,x,batch=False)"
   ]
  },
  {
   "cell_type": "code",
   "execution_count": 10,
   "metadata": {},
   "outputs": [
    {
     "name": "stderr",
     "output_type": "stream",
     "text": [
      "20-03-09:03:56:13 INFO     [clipper_admin.py:1424] [default-cluster] Stopped all Clipper cluster and all model containers\n"
     ]
    }
   ],
   "source": [
    "clipper_conn.stop_all()"
   ]
  },
  {
   "cell_type": "code",
   "execution_count": null,
   "metadata": {},
   "outputs": [],
   "source": []
  }
 ],
 "metadata": {
  "kernelspec": {
   "display_name": "Python 3",
   "language": "python",
   "name": "python3"
  },
  "language_info": {
   "codemirror_mode": {
    "name": "ipython",
    "version": 3
   },
   "file_extension": ".py",
   "mimetype": "text/x-python",
   "name": "python",
   "nbconvert_exporter": "python",
   "pygments_lexer": "ipython3",
   "version": "3.6.1"
  }
 },
 "nbformat": 4,
 "nbformat_minor": 4
}
