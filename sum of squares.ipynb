{
 "cells": [
  {
   "cell_type": "code",
   "execution_count": 46,
   "metadata": {},
   "outputs": [
    {
     "name": "stderr",
     "output_type": "stream",
     "text": [
      "20-01-13:01:08:18 INFO     [docker_container_manager.py:184] [default-cluster] Starting managed Redis instance in Docker\n",
      "20-01-13:01:08:22 INFO     [docker_container_manager.py:276] [default-cluster] Metric Configuration Saved at /tmp/tmp2p0j480q.yml\n",
      "20-01-13:01:08:24 INFO     [clipper_admin.py:162] [default-cluster] Clipper is running\n"
     ]
    }
   ],
   "source": [
    "from clipper_admin import ClipperConnection, DockerContainerManager\n",
    "clipper_conn = ClipperConnection(DockerContainerManager())\n",
    "clipper_conn.start_clipper()"
   ]
  },
  {
   "cell_type": "code",
   "execution_count": 47,
   "metadata": {},
   "outputs": [
    {
     "name": "stderr",
     "output_type": "stream",
     "text": [
      "20-01-13:01:08:29 INFO     [clipper_admin.py:236] [default-cluster] Application squares was successfully registered\n"
     ]
    }
   ],
   "source": [
    "clipper_conn.register_application(name=\"squares\", input_type=\"doubles\", default_output=\"-1.0\", slo_micros=100000)"
   ]
  },
  {
   "cell_type": "code",
   "execution_count": 48,
   "metadata": {},
   "outputs": [
    {
     "data": {
      "text/plain": [
       "['squares']"
      ]
     },
     "execution_count": 48,
     "metadata": {},
     "output_type": "execute_result"
    }
   ],
   "source": [
    "clipper_conn.get_all_apps()"
   ]
  },
  {
   "cell_type": "code",
   "execution_count": 49,
   "metadata": {},
   "outputs": [],
   "source": [
    "#求位平方和函数\n",
    "def square(n):\n",
    "    n = str(n) #先把数字转化为字符串\n",
    "    sum = 0\n",
    "    for i in n:     \n",
    "        sum += int(i) ** 2 #计算字符串中每个数的平方\n",
    "    return str(sum)"
   ]
  },
  {
   "cell_type": "code",
   "execution_count": 50,
   "metadata": {},
   "outputs": [],
   "source": [
    "from clipper_admin.deployers import python as python_deployer"
   ]
  },
  {
   "cell_type": "code",
   "execution_count": 51,
   "metadata": {},
   "outputs": [
    {
     "name": "stderr",
     "output_type": "stream",
     "text": [
      "20-01-13:01:08:54 INFO     [deployer_utils.py:41] Saving function to /tmp/tmpunkku2zdclipper\n",
      "20-01-13:01:08:54 INFO     [deployer_utils.py:51] Serialized and supplied predict function\n",
      "20-01-13:01:08:54 INFO     [python.py:192] Python closure saved\n",
      "20-01-13:01:08:54 INFO     [python.py:206] Using Python 3.6 base image\n",
      "20-01-13:01:08:54 INFO     [clipper_admin.py:534] [default-cluster] Building model Docker image with model data from /tmp/tmpunkku2zdclipper\n",
      "20-01-13:01:08:55 INFO     [clipper_admin.py:539] [default-cluster] Step 1/2 : FROM clipper/python36-closure-container:0.4.1\n",
      "20-01-13:01:08:55 INFO     [clipper_admin.py:539] [default-cluster]  ---> e5b9dc250c05\n",
      "20-01-13:01:08:55 INFO     [clipper_admin.py:539] [default-cluster] Step 2/2 : COPY /tmp/tmpunkku2zdclipper /model/\n",
      "20-01-13:01:08:55 INFO     [clipper_admin.py:539] [default-cluster]  ---> 1d85085640cf\n",
      "20-01-13:01:08:55 INFO     [clipper_admin.py:539] [default-cluster] Successfully built 1d85085640cf\n",
      "20-01-13:01:08:55 INFO     [clipper_admin.py:539] [default-cluster] Successfully tagged default-cluster-sum-square:1\n",
      "20-01-13:01:08:55 INFO     [clipper_admin.py:541] [default-cluster] Pushing model Docker image to default-cluster-sum-square:1\n",
      "20-01-13:01:08:58 INFO     [docker_container_manager.py:409] [default-cluster] Found 0 replicas for sum-square:1. Adding 1\n",
      "20-01-13:01:08:59 INFO     [clipper_admin.py:724] [default-cluster] Successfully registered model sum-square:1\n",
      "20-01-13:01:08:59 INFO     [clipper_admin.py:642] [default-cluster] Done deploying model sum-square:1.\n"
     ]
    }
   ],
   "source": [
    "python_deployer.deploy_python_closure(clipper_conn, name=\"sum-square\", version=1, input_type=\"doubles\", func=square)"
   ]
  },
  {
   "cell_type": "code",
   "execution_count": 52,
   "metadata": {},
   "outputs": [
    {
     "name": "stderr",
     "output_type": "stream",
     "text": [
      "20-01-13:01:09:01 INFO     [clipper_admin.py:303] [default-cluster] Model sum-square is now linked to application squares\n"
     ]
    }
   ],
   "source": [
    "clipper_conn.link_model_to_app(app_name=\"squares\", model_name=\"sum-square\")"
   ]
  },
  {
   "cell_type": "code",
   "execution_count": 63,
   "metadata": {},
   "outputs": [
    {
     "data": {
      "text/plain": [
       "{'query_id': 2,\n",
       " 'output': -1.0,\n",
       " 'default': True,\n",
       " 'default_explanation': 'No connected models found for query'}"
      ]
     },
     "execution_count": 63,
     "metadata": {},
     "output_type": "execute_result"
    }
   ],
   "source": [
    "import requests, json, numpy as np\n",
    "headers = {\"Content-type\": \"application/json\"}\n",
    "requests.post(\"http://localhost:1337/squares/predict\", headers=headers, data=json.dumps({\"input\": [123.]})).json()"
   ]
  },
  {
   "cell_type": "code",
   "execution_count": 64,
   "metadata": {},
   "outputs": [
    {
     "data": {
      "text/plain": [
       "['squares']"
      ]
     },
     "execution_count": 64,
     "metadata": {},
     "output_type": "execute_result"
    }
   ],
   "source": [
    "clipper_conn.get_all_apps()"
   ]
  },
  {
   "cell_type": "code",
   "execution_count": 65,
   "metadata": {},
   "outputs": [
    {
     "name": "stderr",
     "output_type": "stream",
     "text": [
      "20-01-13:01:55:39 INFO     [clipper_admin.py:1424] [default-cluster] Stopped all Clipper cluster and all model containers\n"
     ]
    }
   ],
   "source": [
    "clipper_conn.stop_all()"
   ]
  },
  {
   "cell_type": "code",
   "execution_count": null,
   "metadata": {},
   "outputs": [],
   "source": [
    "1,定义函数 参数 必须是 列表\n",
    "2，该函数应该接受input_type指定的类型的输入列表，并将预测的Python列表或numpy数组作为字符串返回。\n",
    "3,定义请求名字 单词间不能有空格"
   ]
  }
 ],
 "metadata": {
  "kernelspec": {
   "display_name": "Python 3",
   "language": "python",
   "name": "python3"
  },
  "language_info": {
   "codemirror_mode": {
    "name": "ipython",
    "version": 3
   },
   "file_extension": ".py",
   "mimetype": "text/x-python",
   "name": "python",
   "nbconvert_exporter": "python",
   "pygments_lexer": "ipython3",
   "version": "3.6.1"
  }
 },
 "nbformat": 4,
 "nbformat_minor": 4
}
