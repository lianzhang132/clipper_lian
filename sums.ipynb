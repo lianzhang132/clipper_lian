{
 "cells": [
  {
   "cell_type": "code",
   "execution_count": 64,
   "metadata": {},
   "outputs": [
    {
     "name": "stderr",
     "output_type": "stream",
     "text": [
      "20-01-13:03:19:28 INFO     [docker_container_manager.py:184] [default-cluster] Starting managed Redis instance in Docker\n",
      "20-01-13:03:19:33 INFO     [docker_container_manager.py:276] [default-cluster] Metric Configuration Saved at /tmp/tmph67d822p.yml\n",
      "20-01-13:03:19:34 INFO     [clipper_admin.py:162] [default-cluster] Clipper is running\n"
     ]
    }
   ],
   "source": [
    "from clipper_admin import ClipperConnection, DockerContainerManager\n",
    "clipper_conn = ClipperConnection(DockerContainerManager())\n",
    "clipper_conn.start_clipper()\n"
   ]
  },
  {
   "cell_type": "code",
   "execution_count": 65,
   "metadata": {},
   "outputs": [
    {
     "name": "stderr",
     "output_type": "stream",
     "text": [
      "20-01-13:03:19:37 INFO     [clipper_admin.py:236] [default-cluster] Application sums was successfully registered\n"
     ]
    }
   ],
   "source": [
    "clipper_conn.register_application(name=\"sums\", input_type=\"doubles\", default_output=\"-1.0\", slo_micros=1000000)"
   ]
  },
  {
   "cell_type": "code",
   "execution_count": 66,
   "metadata": {},
   "outputs": [
    {
     "data": {
      "text/plain": [
       "['sums']"
      ]
     },
     "execution_count": 66,
     "metadata": {},
     "output_type": "execute_result"
    }
   ],
   "source": [
    "clipper_conn.get_all_apps()"
   ]
  },
  {
   "cell_type": "code",
   "execution_count": 67,
   "metadata": {},
   "outputs": [],
   "source": [
    "def sumOfList(list1):\n",
    "    total = 0\n",
    "    for ele in range(0, len(list1)):\n",
    "        total = total + list1[ele]\n",
    "    return str(total)"
   ]
  },
  {
   "cell_type": "code",
   "execution_count": 68,
   "metadata": {},
   "outputs": [],
   "source": [
    "from clipper_admin.deployers import python as python_deployer"
   ]
  },
  {
   "cell_type": "code",
   "execution_count": 69,
   "metadata": {},
   "outputs": [
    {
     "name": "stderr",
     "output_type": "stream",
     "text": [
      "20-01-13:03:19:48 INFO     [deployer_utils.py:41] Saving function to /tmp/tmp1os8xgx2clipper\n",
      "20-01-13:03:19:48 INFO     [deployer_utils.py:51] Serialized and supplied predict function\n",
      "20-01-13:03:19:48 INFO     [python.py:192] Python closure saved\n",
      "20-01-13:03:19:48 INFO     [python.py:206] Using Python 3.6 base image\n",
      "20-01-13:03:19:48 INFO     [clipper_admin.py:534] [default-cluster] Building model Docker image with model data from /tmp/tmp1os8xgx2clipper\n",
      "20-01-13:03:19:48 INFO     [clipper_admin.py:539] [default-cluster] Step 1/2 : FROM clipper/python36-closure-container:0.4.1\n",
      "20-01-13:03:19:48 INFO     [clipper_admin.py:539] [default-cluster]  ---> e5b9dc250c05\n",
      "20-01-13:03:19:48 INFO     [clipper_admin.py:539] [default-cluster] Step 2/2 : COPY /tmp/tmp1os8xgx2clipper /model/\n",
      "20-01-13:03:19:48 INFO     [clipper_admin.py:539] [default-cluster]  ---> ad1e4b27785b\n",
      "20-01-13:03:19:48 INFO     [clipper_admin.py:539] [default-cluster] Successfully built ad1e4b27785b\n",
      "20-01-13:03:19:48 INFO     [clipper_admin.py:539] [default-cluster] Successfully tagged default-cluster-sums-list:1\n",
      "20-01-13:03:19:48 INFO     [clipper_admin.py:541] [default-cluster] Pushing model Docker image to default-cluster-sums-list:1\n",
      "20-01-13:03:19:58 INFO     [docker_container_manager.py:409] [default-cluster] Found 0 replicas for sums-list:1. Adding 1\n",
      "20-01-13:03:19:59 INFO     [clipper_admin.py:724] [default-cluster] Successfully registered model sums-list:1\n",
      "20-01-13:03:19:59 INFO     [clipper_admin.py:642] [default-cluster] Done deploying model sums-list:1.\n"
     ]
    }
   ],
   "source": [
    "python_deployer.deploy_python_closure(clipper_conn, name=\"sums-list\", version=1, input_type=\"doubles\", func=sumOfList)"
   ]
  },
  {
   "cell_type": "code",
   "execution_count": 70,
   "metadata": {},
   "outputs": [
    {
     "name": "stderr",
     "output_type": "stream",
     "text": [
      "20-01-13:03:20:02 INFO     [clipper_admin.py:303] [default-cluster] Model sums-list is now linked to application sums\n"
     ]
    }
   ],
   "source": [
    "clipper_conn.link_model_to_app(app_name=\"sums\", model_name=\"sums-list\")"
   ]
  },
  {
   "cell_type": "code",
   "execution_count": 71,
   "metadata": {},
   "outputs": [
    {
     "data": {
      "text/plain": [
       "{'query_id': 0,\n",
       " 'output': -1.0,\n",
       " 'default': True,\n",
       " 'default_explanation': 'Failed to retrieve a prediction response within the specified latency SLO'}"
      ]
     },
     "execution_count": 71,
     "metadata": {},
     "output_type": "execute_result"
    }
   ],
   "source": [
    "import requests, json, numpy as np\n",
    "headers = {\"Content-type\": \"application/json\"}\n",
    "requests.post(\"http://localhost:1337/sums/predict\", headers=headers, data=json.dumps({\"input\": list(np.random.random(10))})).json()"
   ]
  },
  {
   "cell_type": "code",
   "execution_count": 73,
   "metadata": {},
   "outputs": [
    {
     "name": "stderr",
     "output_type": "stream",
     "text": [
      "20-01-13:06:40:19 INFO     [clipper_admin.py:1424] [default-cluster] Stopped all Clipper cluster and all model containers\n"
     ]
    }
   ],
   "source": [
    "clipper_conn.stop_all()"
   ]
  },
  {
   "cell_type": "markdown",
   "metadata": {},
   "source": [
    "为什么 总是默认输出 slo已经加到 两个小时还是 这个 输出  觉得 是函数问题 但函数在 pycharm运行正常 "
   ]
  }
 ],
 "metadata": {
  "kernelspec": {
   "display_name": "Python 3",
   "language": "python",
   "name": "python3"
  },
  "language_info": {
   "codemirror_mode": {
    "name": "ipython",
    "version": 3
   },
   "file_extension": ".py",
   "mimetype": "text/x-python",
   "name": "python",
   "nbconvert_exporter": "python",
   "pygments_lexer": "ipython3",
   "version": "3.6.1"
  }
 },
 "nbformat": 4,
 "nbformat_minor": 4
}
