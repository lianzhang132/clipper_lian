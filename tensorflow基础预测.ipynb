{
 "cells": [
  {
   "cell_type": "code",
   "execution_count": 1,
   "metadata": {},
   "outputs": [],
   "source": [
    "import tensorflow as tf\n",
    "import numpy as np"
   ]
  },
  {
   "cell_type": "code",
   "execution_count": 3,
   "metadata": {},
   "outputs": [
    {
     "name": "stdout",
     "output_type": "stream",
     "text": [
      "0 [0.58753854] [0.03048179]\n",
      "20 [0.21819495] [0.23390199]\n",
      "40 [0.12873276] [0.28393182]\n",
      "60 [0.10698482] [0.2960939]\n",
      "80 [0.10169799] [0.29905045]\n",
      "100 [0.10041277] [0.29976916]\n",
      "120 [0.10010035] [0.2999439]\n",
      "140 [0.1000244] [0.29998636]\n",
      "160 [0.10000592] [0.2999967]\n",
      "180 [0.10000143] [0.2999992]\n",
      "200 [0.10000035] [0.2999998]\n",
      "Model saved in path: /tmp/tf/model0.ckpt\n"
     ]
    }
   ],
   "source": [
    "#create real data\n",
    "x_data = np.random.rand(100).astype(np.float32)\n",
    "y_data = x_data * 0.1 + 0.3\n",
    "\n",
    "### create tensorflow structure start ###\n",
    "\n",
    "#定义变量\n",
    "Weights = tf.Variable(tf.random_uniform([1],-1.0,1.0))\n",
    "biases = tf.Variable(tf.zeros([1]))\n",
    "\n",
    "#如何计算预测值\n",
    "y = Weights * x_data + biases\n",
    "\n",
    "# loss function\n",
    "loss = tf.reduce_mean(tf.square(y-y_data))\n",
    "\n",
    "#梯度下降优化器，定义learning rate\n",
    "optimizer = tf.train.GradientDescentOptimizer(0.5)\n",
    "\n",
    "#训练目标是loss最小化\n",
    "train = optimizer.minimize(loss)\n",
    "saver = tf.train.Saver()\n",
    "#初始化变量，即初始化 Weights 和 biases\n",
    "init = tf.global_variables_initializer()\n",
    "\n",
    "#创建session，进行参数初始化\n",
    "sess = tf.Session()\n",
    "sess.run(init)\n",
    "\n",
    "#开始训练200步，每隔20步输出一下两个参数\n",
    "for step in range(201):\n",
    "    sess.run(train)\n",
    "    if step % 20 == 0:\n",
    "        print(step,sess.run(Weights),sess.run(biases))\n",
    "### create tensorflow structure end ###\n",
    "\n",
    "# Save the variables to disk.\n",
    "save_path = saver.save(sess, \"/tmp/tf/model0.ckpt\")\n",
    "print(\"Model saved in path: %s\" % save_path)"
   ]
  },
  {
   "cell_type": "code",
   "execution_count": 4,
   "metadata": {},
   "outputs": [
    {
     "name": "stdout",
     "output_type": "stream",
     "text": [
      "tensor_name:  Variable\n",
      "[0.98456216]\n",
      "tensor_name:  Variable_1\n",
      "[0.]\n",
      "tensor_name:  Variable_2\n",
      "[0.10000035]\n",
      "tensor_name:  Variable_3\n",
      "[0.2999998]\n",
      "# Total number of params: 4\n"
     ]
    }
   ],
   "source": [
    "# import the inspect_checkpoint library\n",
    "from tensorflow.python.tools import inspect_checkpoint as chkp\n",
    "\n",
    "# print all tensors in checkpoint file\n",
    "chkp.print_tensors_in_checkpoint_file(\"/tmp/tf/model0.ckpt\", tensor_name='', all_tensors=True)"
   ]
  },
  {
   "cell_type": "code",
   "execution_count": 5,
   "metadata": {},
   "outputs": [],
   "source": [
    "def predict(sess, inputs):\n",
    "    preds = sess.run('pred:0', feed_dict={'X:0': inputs}) \n",
    "    # `X` is used, it must be defined in the model with that name explicitly!\n",
    "    return [str(p) for p in preds]"
   ]
  },
  {
   "cell_type": "code",
   "execution_count": 6,
   "metadata": {},
   "outputs": [],
   "source": [
    "from clipper_admin import ClipperConnection, DockerContainerManager\n",
    "from clipper_admin.deployers.tensorflow import deploy_tensorflow_model\n",
    "clipper_conn = ClipperConnection(DockerContainerManager())"
   ]
  },
  {
   "cell_type": "code",
   "execution_count": 7,
   "metadata": {},
   "outputs": [
    {
     "name": "stderr",
     "output_type": "stream",
     "text": [
      "20-01-10:02:19:55 INFO     [docker_container_manager.py:184] [default-cluster] Starting managed Redis instance in Docker\n",
      "20-01-10:02:19:59 INFO     [docker_container_manager.py:276] [default-cluster] Metric Configuration Saved at /tmp/tmpqxmbo9k2.yml\n",
      "20-01-10:02:20:00 INFO     [clipper_admin.py:162] [default-cluster] Clipper is running\n"
     ]
    }
   ],
   "source": [
    "clipper_conn.start_clipper()"
   ]
  },
  {
   "cell_type": "code",
   "execution_count": 8,
   "metadata": {},
   "outputs": [
    {
     "name": "stderr",
     "output_type": "stream",
     "text": [
      "20-01-10:02:20:22 INFO     [clipper_admin.py:172] [default-cluster] Successfully connected to Clipper cluster at localhost:1337\n"
     ]
    }
   ],
   "source": [
    "clipper_conn.connect()"
   ]
  },
  {
   "cell_type": "code",
   "execution_count": 9,
   "metadata": {},
   "outputs": [
    {
     "name": "stderr",
     "output_type": "stream",
     "text": [
      "20-01-10:02:23:18 INFO     [clipper_admin.py:236] [default-cluster] Application tf-app0 was successfully registered\n"
     ]
    }
   ],
   "source": [
    "# Add an application with a name and an input type\n",
    "clipper_conn.register_application(\n",
    "    name=\"tf-app0\", input_type=\"doubles\", default_output=\"-1.0\", slo_micros=100000)"
   ]
  },
  {
   "cell_type": "code",
   "execution_count": 10,
   "metadata": {},
   "outputs": [
    {
     "name": "stderr",
     "output_type": "stream",
     "text": [
      "20-01-10:02:26:41 INFO     [deployer_utils.py:41] Saving function to /tmp/tmpwgbtnss1clipper\n",
      "20-01-10:02:26:41 INFO     [deployer_utils.py:51] Serialized and supplied predict function\n",
      "20-01-10:02:26:41 INFO     [tensorflow.py:264] TensorFlow model copied to: tfmodel \n",
      "20-01-10:02:26:41 INFO     [tensorflow.py:277] Using Python 3.6 base image\n",
      "20-01-10:02:26:41 INFO     [clipper_admin.py:534] [default-cluster] Building model Docker image with model data from /tmp/tmpwgbtnss1clipper\n",
      "20-01-10:02:26:41 INFO     [clipper_admin.py:539] [default-cluster] Step 1/2 : FROM clipper/tf36-container:0.4.1\n",
      "20-01-10:02:26:41 INFO     [clipper_admin.py:539] [default-cluster]  ---> 3db42af800ff\n",
      "20-01-10:02:26:41 INFO     [clipper_admin.py:539] [default-cluster] Step 2/2 : COPY /tmp/tmpwgbtnss1clipper /model/\n",
      "20-01-10:02:26:41 INFO     [clipper_admin.py:539] [default-cluster]  ---> 3644abd6bb34\n",
      "20-01-10:02:26:41 INFO     [clipper_admin.py:539] [default-cluster] Successfully built 3644abd6bb34\n",
      "20-01-10:02:26:41 INFO     [clipper_admin.py:539] [default-cluster] Successfully tagged default-cluster-tf-mod0:1\n",
      "20-01-10:02:26:41 INFO     [clipper_admin.py:541] [default-cluster] Pushing model Docker image to default-cluster-tf-mod0:1\n",
      "20-01-10:02:26:46 INFO     [docker_container_manager.py:409] [default-cluster] Found 0 replicas for tf-mod0:1. Adding 1\n",
      "20-01-10:02:26:47 INFO     [clipper_admin.py:724] [default-cluster] Successfully registered model tf-mod0:1\n",
      "20-01-10:02:26:47 INFO     [clipper_admin.py:642] [default-cluster] Done deploying model tf-mod0:1.\n"
     ]
    }
   ],
   "source": [
    "\n",
    "# Deploy a model, to check what arguments you need run \n",
    "# \"?deploy_tensorflow_model\" to let the notebook show you the definition of the method\n",
    "deploy_tensorflow_model(\n",
    "    clipper_conn,\n",
    "    name=\"tf-mod0\",\n",
    "    version=1,\n",
    "    input_type=\"doubles\",\n",
    "    func=predict,\n",
    "    tf_sess_or_saved_model_path=\"/tmp/tf/\") # path to saved model files is used,\n",
    "# session example in the next section"
   ]
  },
  {
   "cell_type": "code",
   "execution_count": 11,
   "metadata": {},
   "outputs": [
    {
     "name": "stderr",
     "output_type": "stream",
     "text": [
      "20-01-10:02:30:21 INFO     [clipper_admin.py:303] [default-cluster] Model tf-mod0 is now linked to application tf-app0\n"
     ]
    }
   ],
   "source": [
    "# Link the model and the app\n",
    "clipper_conn.link_model_to_app(\n",
    "    app_name=\"tf-app0\",\n",
    "    model_name=\"tf-mod0\")"
   ]
  },
  {
   "cell_type": "code",
   "execution_count": 12,
   "metadata": {},
   "outputs": [],
   "source": [
    "# Get query address\n",
    "query_address = clipper_conn.get_query_addr()"
   ]
  },
  {
   "cell_type": "code",
   "execution_count": 16,
   "metadata": {},
   "outputs": [
    {
     "data": {
      "text/plain": [
       "{'query_id': 2, 'output': '[0.6076976 1.3544037]', 'default': False}"
      ]
     },
     "execution_count": 16,
     "metadata": {},
     "output_type": "execute_result"
    }
   ],
   "source": [
    "# Run a query\n",
    "import requests, json, numpy as np\n",
    "headers = {\"Content-type\": \"application/json\"}\n",
    "requests.post(\"http://\"+query_address+\"/tf-app0/predict\", headers=headers, data=json.dumps({\n",
    "    \"input\": [.8,3.2]})).json()"
   ]
  },
  {
   "cell_type": "code",
   "execution_count": 17,
   "metadata": {},
   "outputs": [
    {
     "name": "stderr",
     "output_type": "stream",
     "text": [
      "20-01-10:06:51:35 INFO     [clipper_admin.py:344] Model tf-mod0 is now removed to application tf-app0\n"
     ]
    }
   ],
   "source": [
    "clipper_conn.unlink_model_from_app(model_name=\"tf-mod0\", app_name=\"tf-app0\")"
   ]
  },
  {
   "cell_type": "code",
   "execution_count": 18,
   "metadata": {},
   "outputs": [
    {
     "name": "stderr",
     "output_type": "stream",
     "text": [
      "20-01-10:06:52:05 INFO     [clipper_admin.py:1285] Model tf-mod0:1 was successfully deleted\n",
      "20-01-10:06:52:05 INFO     [clipper_admin.py:1319] [default-cluster] Stopped all containers for these models and versions:\n",
      "{'tf-mod0': ['1']}\n"
     ]
    }
   ],
   "source": [
    "clipper_conn.stop_models('tf-mod0')"
   ]
  },
  {
   "cell_type": "code",
   "execution_count": 19,
   "metadata": {},
   "outputs": [
    {
     "name": "stderr",
     "output_type": "stream",
     "text": [
      "20-01-10:06:52:18 WARNING  [clipper_admin.py:240] [default-cluster] [DEPRECATED] Use 'unregister_application' API instead of this.\n",
      "20-01-10:06:52:18 INFO     [clipper_admin.py:260] [default-cluster] Application tf-app0 was successfully unregistered\n"
     ]
    }
   ],
   "source": [
    "clipper_conn.delete_application('tf-app0')"
   ]
  },
  {
   "cell_type": "code",
   "execution_count": 20,
   "metadata": {},
   "outputs": [
    {
     "name": "stderr",
     "output_type": "stream",
     "text": [
      "20-01-10:06:53:04 INFO     [clipper_admin.py:1424] [default-cluster] Stopped all Clipper cluster and all model containers\n"
     ]
    }
   ],
   "source": [
    "clipper_conn.stop_all()"
   ]
  },
  {
   "cell_type": "code",
   "execution_count": null,
   "metadata": {},
   "outputs": [],
   "source": []
  }
 ],
 "metadata": {
  "kernelspec": {
   "display_name": "Python 3",
   "language": "python",
   "name": "python3"
  },
  "language_info": {
   "codemirror_mode": {
    "name": "ipython",
    "version": 3
   },
   "file_extension": ".py",
   "mimetype": "text/x-python",
   "name": "python",
   "nbconvert_exporter": "python",
   "pygments_lexer": "ipython3",
   "version": "3.6.1"
  }
 },
 "nbformat": 4,
 "nbformat_minor": 4
}
